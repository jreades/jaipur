{
 "cells": [
  {
   "cell_type": "markdown",
   "id": "191078fd-6a11-4beb-b708-544bd8fde4f2",
   "metadata": {},
   "source": [
    "# Exploring Data\n",
    "\n",
    "In this notebook we're just going to explore the data without trying to do anything 'complicated'. So if we have numeric, tabular data then we will work with it like it was in Excel. If we have spatial data we will work with it to make a map. We will *not* try to link them together until the very end. "
   ]
  },
  {
   "cell_type": "markdown",
   "id": "73f16a3c-6984-40fe-959f-16a165870dbf",
   "metadata": {},
   "source": [
    "## Loading Data\n",
    "\n",
    "In this section we download the data from a remote server and save it to a working directory on our computer."
   ]
  },
  {
   "cell_type": "markdown",
   "id": "4f498132-215b-46c1-a19c-c65c13d84a13",
   "metadata": {},
   "source": [
    "### Setup"
   ]
  },
  {
   "cell_type": "code",
   "execution_count": 1,
   "id": "c08020d6-4dd6-4aea-bbb9-2df225d17401",
   "metadata": {},
   "outputs": [],
   "source": [
    "from pathlib import Path\n",
    "\n",
    "src_dir = Path.home() / Path('work/data/clean')\n",
    "\n",
    "if not src_dir.exists():\n",
    "    src_dir.mkdir(parents=True)\n",
    "    print(f\"Creating a 'clean' directory for data in {src_dir}.\")"
   ]
  },
  {
   "cell_type": "markdown",
   "id": "f5d7b211-03bd-4641-a9ac-fc35ebbb6cf1",
   "metadata": {},
   "source": [
    "Below we are setting up some basic *variables* that we'll use to manage the download porcess. The data is all accessible from a CASA server called 'Orca' (`base_url`) and then we have a list of the data and geodata that we will need to download. Note that, when approaching a problem with code, we can be 'lazy' and not even specify the file extension (`.parquet`) because we can *add* then when downloading each file."
   ]
  },
  {
   "cell_type": "code",
   "execution_count": 2,
   "id": "8bc4cc59-5998-42ed-b858-9effac0377ec",
   "metadata": {},
   "outputs": [
    {
     "name": "stdout",
     "output_type": "stream",
     "text": [
      "The tabular data files are: assets, condition, materials, occupancy, structure, utilities, ward_population, jaipur_population\n"
     ]
    }
   ],
   "source": [
    "base_url = 'https://orca.casa.ucl.ac.uk/~jreades/jaipur'\n",
    "\n",
    "files = [\n",
    "    'assets', 'condition', 'materials', 'occupancy', 'structure', 'utilities', 'ward_population', 'jaipur_population'\n",
    "]\n",
    "\n",
    "print(f\"The tabular data files are: {', '.join(files)}\")"
   ]
  },
  {
   "cell_type": "markdown",
   "id": "3901307f-115b-4a17-b732-8e3b16e32447",
   "metadata": {},
   "source": [
    "### Download\n",
    "\n",
    "Notice the `exists()` part -- we are checking for the existence of a file locally *before* we try to download it!"
   ]
  },
  {
   "cell_type": "code",
   "execution_count": 3,
   "id": "2c799c77-bb33-4033-80fd-306f0af108b1",
   "metadata": {},
   "outputs": [
    {
     "name": "stdout",
     "output_type": "stream",
     "text": [
      "Retrieving assets table.\n",
      "\tAlready downloaded this data...\n",
      "Retrieving condition table.\n",
      "\tAlready downloaded this data...\n",
      "Retrieving materials table.\n",
      "\tAlready downloaded this data...\n",
      "Retrieving occupancy table.\n",
      "\tAlready downloaded this data...\n",
      "Retrieving structure table.\n",
      "\tAlready downloaded this data...\n",
      "Retrieving utilities table.\n",
      "\tAlready downloaded this data...\n",
      "Retrieving ward_population table.\n",
      "\tAlready downloaded this data...\n",
      "Retrieving jaipur_population table.\n",
      "\tAlready downloaded this data...\n"
     ]
    }
   ],
   "source": [
    "# urlretrieve is a function (provided by Python) for \n",
    "# downloading a file from a URL and saving it locally\n",
    "from urllib.request import urlretrieve\n",
    "\n",
    "# For each tabular data file\n",
    "for f in files:\n",
    "    print(f\"Retrieving {f} table.\")\n",
    "    save_path = Path(src_dir / f\"{f}.parquet\")\n",
    "    if save_path.exists():\n",
    "        print(\"\\tAlready downloaded this data...\")\n",
    "    else: \n",
    "        print(\"\\tDownloading...\")\n",
    "        urlretrieve(f\"{base_url}/{f}.parquet\", save_path)"
   ]
  },
  {
   "cell_type": "markdown",
   "id": "0fde79bd-57ec-422d-8f61-408e14325a89",
   "metadata": {},
   "source": [
    "## Tabular Data\n",
    "\n",
    "Reading tables (this can include Excel, CSV, and other types of tabular data) is easily done using the `pandas` library, which we here import using the `pd` alias, so wherever you see `pd.` we are using a tool from the pandas library. The name of a table in pandas is a 'data frame', often abbreviated to `df`."
   ]
  },
  {
   "cell_type": "code",
   "execution_count": 4,
   "id": "3bcaef84-fe56-4ab7-b74b-064c8eb764e2",
   "metadata": {},
   "outputs": [],
   "source": [
    "import pandas as pd"
   ]
  },
  {
   "cell_type": "markdown",
   "id": "dafee7d2-ac22-40b7-95d2-901f380349fb",
   "metadata": {},
   "source": [
    "### House Condition Data\n",
    "\n",
    "Read in the housing condition data for Jaipur. This is something that I prepared earlier using the code in the [Manage Data](./Manage_Data.ipynb) notebook. The code in that notebook is quite a bit more complex because the Census data is quite complex, but as you develop your understanding of pandas and Python you will probably find it useful!"
   ]
  },
  {
   "cell_type": "code",
   "execution_count": 5,
   "id": "a4cdb5cf-86c8-49ce-93a7-282558eae576",
   "metadata": {},
   "outputs": [],
   "source": [
    "df = pd.read_parquet(src_dir / 'condition.parquet')"
   ]
  },
  {
   "cell_type": "markdown",
   "id": "c65f685d-b154-4990-9e42-8297b365f44c",
   "metadata": {},
   "source": [
    "### Inspecting the Data Frame\n",
    "\n",
    "Pandas can speak to JupyterLab to produce prettily-formatted data like this:"
   ]
  },
  {
   "cell_type": "code",
   "execution_count": 6,
   "id": "eec62a66-b68d-451d-b607-6a2a27730329",
   "metadata": {},
   "outputs": [
    {
     "data": {
      "text/html": [
       "<div>\n",
       "<style scoped>\n",
       "    .dataframe tbody tr th:only-of-type {\n",
       "        vertical-align: middle;\n",
       "    }\n",
       "\n",
       "    .dataframe tbody tr th {\n",
       "        vertical-align: top;\n",
       "    }\n",
       "\n",
       "    .dataframe thead th {\n",
       "        text-align: right;\n",
       "    }\n",
       "</style>\n",
       "<table border=\"1\" class=\"dataframe\">\n",
       "  <thead>\n",
       "    <tr style=\"text-align: right;\">\n",
       "      <th></th>\n",
       "      <th>state_code</th>\n",
       "      <th>state_name</th>\n",
       "      <th>district_code</th>\n",
       "      <th>district_name</th>\n",
       "      <th>tehsil_code</th>\n",
       "      <th>tehsil_name</th>\n",
       "      <th>town_code_village_code</th>\n",
       "      <th>ward_no</th>\n",
       "      <th>area_name</th>\n",
       "      <th>rural_urban</th>\n",
       "      <th>...</th>\n",
       "      <th>house_condition_total_livable</th>\n",
       "      <th>house_condition_total_dilapidated</th>\n",
       "      <th>house_condition_residence_total</th>\n",
       "      <th>house_condition_residence_good</th>\n",
       "      <th>house_condition_residence_livable</th>\n",
       "      <th>house_condition_residence_dilapidated</th>\n",
       "      <th>house_condition_residence_cum_other_use_total</th>\n",
       "      <th>house_condition_residence_cum_other_use_good</th>\n",
       "      <th>house_condition_residence_cum_other_use_livable</th>\n",
       "      <th>house_condition_residence_cum_other_use_dilapidated</th>\n",
       "    </tr>\n",
       "  </thead>\n",
       "  <tbody>\n",
       "    <tr>\n",
       "      <th>0</th>\n",
       "      <td>8</td>\n",
       "      <td>RAJASTHAN</td>\n",
       "      <td>110</td>\n",
       "      <td>Jaipur</td>\n",
       "      <td>546</td>\n",
       "      <td>Jaipur</td>\n",
       "      <td>800522</td>\n",
       "      <td>1</td>\n",
       "      <td>Jaipur (M Corp.) (Part) - Ward No.1</td>\n",
       "      <td>Urban</td>\n",
       "      <td>...</td>\n",
       "      <td>34.1</td>\n",
       "      <td>1.6</td>\n",
       "      <td>97.9</td>\n",
       "      <td>63.2</td>\n",
       "      <td>33.1</td>\n",
       "      <td>1.6</td>\n",
       "      <td>2.1</td>\n",
       "      <td>1.1</td>\n",
       "      <td>0.9</td>\n",
       "      <td>0.0</td>\n",
       "    </tr>\n",
       "    <tr>\n",
       "      <th>1</th>\n",
       "      <td>8</td>\n",
       "      <td>RAJASTHAN</td>\n",
       "      <td>110</td>\n",
       "      <td>Jaipur</td>\n",
       "      <td>546</td>\n",
       "      <td>Jaipur</td>\n",
       "      <td>800522</td>\n",
       "      <td>2</td>\n",
       "      <td>Jaipur (M Corp.) (Part) - Ward No.2</td>\n",
       "      <td>Urban</td>\n",
       "      <td>...</td>\n",
       "      <td>25.6</td>\n",
       "      <td>0.8</td>\n",
       "      <td>96.6</td>\n",
       "      <td>71.3</td>\n",
       "      <td>24.6</td>\n",
       "      <td>0.8</td>\n",
       "      <td>3.4</td>\n",
       "      <td>2.3</td>\n",
       "      <td>1.0</td>\n",
       "      <td>0.0</td>\n",
       "    </tr>\n",
       "    <tr>\n",
       "      <th>2</th>\n",
       "      <td>8</td>\n",
       "      <td>RAJASTHAN</td>\n",
       "      <td>110</td>\n",
       "      <td>Jaipur</td>\n",
       "      <td>546</td>\n",
       "      <td>Jaipur</td>\n",
       "      <td>800522</td>\n",
       "      <td>3</td>\n",
       "      <td>Jaipur (M Corp.) (Part) - Ward No.3</td>\n",
       "      <td>Urban</td>\n",
       "      <td>...</td>\n",
       "      <td>21.8</td>\n",
       "      <td>1.1</td>\n",
       "      <td>95.0</td>\n",
       "      <td>73.3</td>\n",
       "      <td>20.6</td>\n",
       "      <td>1.0</td>\n",
       "      <td>5.0</td>\n",
       "      <td>3.7</td>\n",
       "      <td>1.2</td>\n",
       "      <td>0.1</td>\n",
       "    </tr>\n",
       "  </tbody>\n",
       "</table>\n",
       "<p>3 rows × 22 columns</p>\n",
       "</div>"
      ],
      "text/plain": [
       "   state_code state_name  district_code district_name  tehsil_code  \\\n",
       "0           8  RAJASTHAN            110       Jaipur           546   \n",
       "1           8  RAJASTHAN            110       Jaipur           546   \n",
       "2           8  RAJASTHAN            110       Jaipur           546   \n",
       "\n",
       "  tehsil_name  town_code_village_code  ward_no  \\\n",
       "0      Jaipur                  800522        1   \n",
       "1      Jaipur                  800522        2   \n",
       "2      Jaipur                  800522        3   \n",
       "\n",
       "                             area_name rural_urban  ...  \\\n",
       "0  Jaipur (M Corp.) (Part) - Ward No.1       Urban  ...   \n",
       "1  Jaipur (M Corp.) (Part) - Ward No.2       Urban  ...   \n",
       "2  Jaipur (M Corp.) (Part) - Ward No.3       Urban  ...   \n",
       "\n",
       "   house_condition_total_livable  house_condition_total_dilapidated  \\\n",
       "0                           34.1                                1.6   \n",
       "1                           25.6                                0.8   \n",
       "2                           21.8                                1.1   \n",
       "\n",
       "   house_condition_residence_total  house_condition_residence_good  \\\n",
       "0                             97.9                            63.2   \n",
       "1                             96.6                            71.3   \n",
       "2                             95.0                            73.3   \n",
       "\n",
       "   house_condition_residence_livable  house_condition_residence_dilapidated  \\\n",
       "0                               33.1                                    1.6   \n",
       "1                               24.6                                    0.8   \n",
       "2                               20.6                                    1.0   \n",
       "\n",
       "   house_condition_residence_cum_other_use_total  \\\n",
       "0                                            2.1   \n",
       "1                                            3.4   \n",
       "2                                            5.0   \n",
       "\n",
       "   house_condition_residence_cum_other_use_good  \\\n",
       "0                                           1.1   \n",
       "1                                           2.3   \n",
       "2                                           3.7   \n",
       "\n",
       "   house_condition_residence_cum_other_use_livable  \\\n",
       "0                                              0.9   \n",
       "1                                              1.0   \n",
       "2                                              1.2   \n",
       "\n",
       "   house_condition_residence_cum_other_use_dilapidated  \n",
       "0                                                0.0    \n",
       "1                                                0.0    \n",
       "2                                                0.1    \n",
       "\n",
       "[3 rows x 22 columns]"
      ]
     },
     "execution_count": 6,
     "metadata": {},
     "output_type": "execute_result"
    }
   ],
   "source": [
    "df.head(3)"
   ]
  },
  {
   "cell_type": "markdown",
   "id": "56901cb2-dc50-42f6-8ea3-acdab99dc5ae",
   "metadata": {},
   "source": [
    "List the columns:"
   ]
  },
  {
   "cell_type": "code",
   "execution_count": 7,
   "id": "5849a3d0-032f-442f-8647-fc370187b10e",
   "metadata": {},
   "outputs": [
    {
     "name": "stdout",
     "output_type": "stream",
     "text": [
      "['state_code', 'state_name', 'district_code', 'district_name', 'tehsil_code', 'tehsil_name', 'town_code_village_code', 'ward_no', 'area_name', 'rural_urban', 'house_condition_total_total', 'house_condition_total_good', 'house_condition_total_livable', 'house_condition_total_dilapidated', 'house_condition_residence_total', 'house_condition_residence_good', 'house_condition_residence_livable', 'house_condition_residence_dilapidated', 'house_condition_residence_cum_other_use_total', 'house_condition_residence_cum_other_use_good', 'house_condition_residence_cum_other_use_livable', 'house_condition_residence_cum_other_use_dilapidated']\n"
     ]
    }
   ],
   "source": [
    "print(df.columns.to_list())"
   ]
  },
  {
   "cell_type": "markdown",
   "id": "28393e3f-de44-4eb2-a636-afbf6bfc149b",
   "metadata": {},
   "source": [
    "Get descriptive statistics for the data frame:"
   ]
  },
  {
   "cell_type": "code",
   "execution_count": 8,
   "id": "1fd6715f-0132-45fb-bbb0-09a81c3cdc06",
   "metadata": {},
   "outputs": [
    {
     "data": {
      "text/html": [
       "<div>\n",
       "<style scoped>\n",
       "    .dataframe tbody tr th:only-of-type {\n",
       "        vertical-align: middle;\n",
       "    }\n",
       "\n",
       "    .dataframe tbody tr th {\n",
       "        vertical-align: top;\n",
       "    }\n",
       "\n",
       "    .dataframe thead th {\n",
       "        text-align: right;\n",
       "    }\n",
       "</style>\n",
       "<table border=\"1\" class=\"dataframe\">\n",
       "  <thead>\n",
       "    <tr style=\"text-align: right;\">\n",
       "      <th></th>\n",
       "      <th>state_code</th>\n",
       "      <th>district_code</th>\n",
       "      <th>tehsil_code</th>\n",
       "      <th>town_code_village_code</th>\n",
       "      <th>ward_no</th>\n",
       "      <th>house_condition_total_total</th>\n",
       "      <th>house_condition_total_good</th>\n",
       "      <th>house_condition_total_livable</th>\n",
       "      <th>house_condition_total_dilapidated</th>\n",
       "      <th>house_condition_residence_total</th>\n",
       "      <th>house_condition_residence_good</th>\n",
       "      <th>house_condition_residence_livable</th>\n",
       "      <th>house_condition_residence_dilapidated</th>\n",
       "      <th>house_condition_residence_cum_other_use_total</th>\n",
       "      <th>house_condition_residence_cum_other_use_good</th>\n",
       "      <th>house_condition_residence_cum_other_use_livable</th>\n",
       "      <th>house_condition_residence_cum_other_use_dilapidated</th>\n",
       "    </tr>\n",
       "  </thead>\n",
       "  <tbody>\n",
       "    <tr>\n",
       "      <th>count</th>\n",
       "      <td>65.0</td>\n",
       "      <td>65.0</td>\n",
       "      <td>65.0</td>\n",
       "      <td>65.0</td>\n",
       "      <td>65.000000</td>\n",
       "      <td>65.0</td>\n",
       "      <td>65.000000</td>\n",
       "      <td>65.000000</td>\n",
       "      <td>65.000000</td>\n",
       "      <td>65.000000</td>\n",
       "      <td>65.000000</td>\n",
       "      <td>65.000000</td>\n",
       "      <td>65.000000</td>\n",
       "      <td>65.000000</td>\n",
       "      <td>65.000000</td>\n",
       "      <td>65.000000</td>\n",
       "      <td>65.000000</td>\n",
       "    </tr>\n",
       "    <tr>\n",
       "      <th>mean</th>\n",
       "      <td>8.0</td>\n",
       "      <td>110.0</td>\n",
       "      <td>546.0</td>\n",
       "      <td>800522.0</td>\n",
       "      <td>40.723077</td>\n",
       "      <td>100.0</td>\n",
       "      <td>71.241538</td>\n",
       "      <td>27.646154</td>\n",
       "      <td>1.109231</td>\n",
       "      <td>96.509231</td>\n",
       "      <td>69.024615</td>\n",
       "      <td>26.423077</td>\n",
       "      <td>1.067692</td>\n",
       "      <td>3.490769</td>\n",
       "      <td>2.218462</td>\n",
       "      <td>1.226154</td>\n",
       "      <td>0.029231</td>\n",
       "    </tr>\n",
       "    <tr>\n",
       "      <th>std</th>\n",
       "      <td>0.0</td>\n",
       "      <td>0.0</td>\n",
       "      <td>0.0</td>\n",
       "      <td>0.0</td>\n",
       "      <td>23.924038</td>\n",
       "      <td>0.0</td>\n",
       "      <td>13.210541</td>\n",
       "      <td>12.711303</td>\n",
       "      <td>0.866697</td>\n",
       "      <td>1.553496</td>\n",
       "      <td>13.021137</td>\n",
       "      <td>12.322842</td>\n",
       "      <td>0.854237</td>\n",
       "      <td>1.553496</td>\n",
       "      <td>0.980894</td>\n",
       "      <td>0.825052</td>\n",
       "      <td>0.080473</td>\n",
       "    </tr>\n",
       "    <tr>\n",
       "      <th>min</th>\n",
       "      <td>8.0</td>\n",
       "      <td>110.0</td>\n",
       "      <td>546.0</td>\n",
       "      <td>800522.0</td>\n",
       "      <td>1.000000</td>\n",
       "      <td>100.0</td>\n",
       "      <td>30.000000</td>\n",
       "      <td>9.600000</td>\n",
       "      <td>0.000000</td>\n",
       "      <td>91.000000</td>\n",
       "      <td>29.300000</td>\n",
       "      <td>9.000000</td>\n",
       "      <td>0.000000</td>\n",
       "      <td>0.000000</td>\n",
       "      <td>0.000000</td>\n",
       "      <td>0.000000</td>\n",
       "      <td>0.000000</td>\n",
       "    </tr>\n",
       "    <tr>\n",
       "      <th>25%</th>\n",
       "      <td>8.0</td>\n",
       "      <td>110.0</td>\n",
       "      <td>546.0</td>\n",
       "      <td>800522.0</td>\n",
       "      <td>17.000000</td>\n",
       "      <td>100.0</td>\n",
       "      <td>62.900000</td>\n",
       "      <td>19.100000</td>\n",
       "      <td>0.400000</td>\n",
       "      <td>95.800000</td>\n",
       "      <td>61.100000</td>\n",
       "      <td>17.700000</td>\n",
       "      <td>0.400000</td>\n",
       "      <td>2.600000</td>\n",
       "      <td>1.600000</td>\n",
       "      <td>0.700000</td>\n",
       "      <td>0.000000</td>\n",
       "    </tr>\n",
       "    <tr>\n",
       "      <th>50%</th>\n",
       "      <td>8.0</td>\n",
       "      <td>110.0</td>\n",
       "      <td>546.0</td>\n",
       "      <td>800522.0</td>\n",
       "      <td>45.000000</td>\n",
       "      <td>100.0</td>\n",
       "      <td>73.600000</td>\n",
       "      <td>25.600000</td>\n",
       "      <td>0.900000</td>\n",
       "      <td>96.800000</td>\n",
       "      <td>71.300000</td>\n",
       "      <td>24.600000</td>\n",
       "      <td>0.800000</td>\n",
       "      <td>3.200000</td>\n",
       "      <td>2.000000</td>\n",
       "      <td>1.000000</td>\n",
       "      <td>0.000000</td>\n",
       "    </tr>\n",
       "    <tr>\n",
       "      <th>75%</th>\n",
       "      <td>8.0</td>\n",
       "      <td>110.0</td>\n",
       "      <td>546.0</td>\n",
       "      <td>800522.0</td>\n",
       "      <td>61.000000</td>\n",
       "      <td>100.0</td>\n",
       "      <td>80.100000</td>\n",
       "      <td>34.800000</td>\n",
       "      <td>1.500000</td>\n",
       "      <td>97.400000</td>\n",
       "      <td>76.700000</td>\n",
       "      <td>33.100000</td>\n",
       "      <td>1.300000</td>\n",
       "      <td>4.200000</td>\n",
       "      <td>2.800000</td>\n",
       "      <td>1.600000</td>\n",
       "      <td>0.000000</td>\n",
       "    </tr>\n",
       "    <tr>\n",
       "      <th>max</th>\n",
       "      <td>8.0</td>\n",
       "      <td>110.0</td>\n",
       "      <td>546.0</td>\n",
       "      <td>800522.0</td>\n",
       "      <td>77.000000</td>\n",
       "      <td>100.0</td>\n",
       "      <td>90.100000</td>\n",
       "      <td>67.500000</td>\n",
       "      <td>4.100000</td>\n",
       "      <td>100.000000</td>\n",
       "      <td>88.300000</td>\n",
       "      <td>66.000000</td>\n",
       "      <td>4.100000</td>\n",
       "      <td>9.000000</td>\n",
       "      <td>5.600000</td>\n",
       "      <td>4.800000</td>\n",
       "      <td>0.500000</td>\n",
       "    </tr>\n",
       "  </tbody>\n",
       "</table>\n",
       "</div>"
      ],
      "text/plain": [
       "       state_code  district_code  tehsil_code  town_code_village_code  \\\n",
       "count        65.0           65.0         65.0                    65.0   \n",
       "mean          8.0          110.0        546.0                800522.0   \n",
       "std           0.0            0.0          0.0                     0.0   \n",
       "min           8.0          110.0        546.0                800522.0   \n",
       "25%           8.0          110.0        546.0                800522.0   \n",
       "50%           8.0          110.0        546.0                800522.0   \n",
       "75%           8.0          110.0        546.0                800522.0   \n",
       "max           8.0          110.0        546.0                800522.0   \n",
       "\n",
       "         ward_no  house_condition_total_total  house_condition_total_good  \\\n",
       "count  65.000000                         65.0                   65.000000   \n",
       "mean   40.723077                        100.0                   71.241538   \n",
       "std    23.924038                          0.0                   13.210541   \n",
       "min     1.000000                        100.0                   30.000000   \n",
       "25%    17.000000                        100.0                   62.900000   \n",
       "50%    45.000000                        100.0                   73.600000   \n",
       "75%    61.000000                        100.0                   80.100000   \n",
       "max    77.000000                        100.0                   90.100000   \n",
       "\n",
       "       house_condition_total_livable  house_condition_total_dilapidated  \\\n",
       "count                      65.000000                          65.000000   \n",
       "mean                       27.646154                           1.109231   \n",
       "std                        12.711303                           0.866697   \n",
       "min                         9.600000                           0.000000   \n",
       "25%                        19.100000                           0.400000   \n",
       "50%                        25.600000                           0.900000   \n",
       "75%                        34.800000                           1.500000   \n",
       "max                        67.500000                           4.100000   \n",
       "\n",
       "       house_condition_residence_total  house_condition_residence_good  \\\n",
       "count                        65.000000                       65.000000   \n",
       "mean                         96.509231                       69.024615   \n",
       "std                           1.553496                       13.021137   \n",
       "min                          91.000000                       29.300000   \n",
       "25%                          95.800000                       61.100000   \n",
       "50%                          96.800000                       71.300000   \n",
       "75%                          97.400000                       76.700000   \n",
       "max                         100.000000                       88.300000   \n",
       "\n",
       "       house_condition_residence_livable  \\\n",
       "count                          65.000000   \n",
       "mean                           26.423077   \n",
       "std                            12.322842   \n",
       "min                             9.000000   \n",
       "25%                            17.700000   \n",
       "50%                            24.600000   \n",
       "75%                            33.100000   \n",
       "max                            66.000000   \n",
       "\n",
       "       house_condition_residence_dilapidated  \\\n",
       "count                              65.000000   \n",
       "mean                                1.067692   \n",
       "std                                 0.854237   \n",
       "min                                 0.000000   \n",
       "25%                                 0.400000   \n",
       "50%                                 0.800000   \n",
       "75%                                 1.300000   \n",
       "max                                 4.100000   \n",
       "\n",
       "       house_condition_residence_cum_other_use_total  \\\n",
       "count                                      65.000000   \n",
       "mean                                        3.490769   \n",
       "std                                         1.553496   \n",
       "min                                         0.000000   \n",
       "25%                                         2.600000   \n",
       "50%                                         3.200000   \n",
       "75%                                         4.200000   \n",
       "max                                         9.000000   \n",
       "\n",
       "       house_condition_residence_cum_other_use_good  \\\n",
       "count                                     65.000000   \n",
       "mean                                       2.218462   \n",
       "std                                        0.980894   \n",
       "min                                        0.000000   \n",
       "25%                                        1.600000   \n",
       "50%                                        2.000000   \n",
       "75%                                        2.800000   \n",
       "max                                        5.600000   \n",
       "\n",
       "       house_condition_residence_cum_other_use_livable  \\\n",
       "count                                        65.000000   \n",
       "mean                                          1.226154   \n",
       "std                                           0.825052   \n",
       "min                                           0.000000   \n",
       "25%                                           0.700000   \n",
       "50%                                           1.000000   \n",
       "75%                                           1.600000   \n",
       "max                                           4.800000   \n",
       "\n",
       "       house_condition_residence_cum_other_use_dilapidated  \n",
       "count                                          65.000000    \n",
       "mean                                            0.029231    \n",
       "std                                             0.080473    \n",
       "min                                             0.000000    \n",
       "25%                                             0.000000    \n",
       "50%                                             0.000000    \n",
       "75%                                             0.000000    \n",
       "max                                             0.500000    "
      ]
     },
     "execution_count": 8,
     "metadata": {},
     "output_type": "execute_result"
    }
   ],
   "source": [
    "df.describe()"
   ]
  },
  {
   "cell_type": "markdown",
   "id": "0f7233b9-9ab3-4dd8-96bc-62262bc08f1d",
   "metadata": {},
   "source": [
    "Get descriptive statistics for only a few columns from the data frame:"
   ]
  },
  {
   "cell_type": "code",
   "execution_count": 9,
   "id": "73f763f0-fb3d-475a-8d9f-a1d6c5de0ca0",
   "metadata": {},
   "outputs": [
    {
     "data": {
      "text/html": [
       "<div>\n",
       "<style scoped>\n",
       "    .dataframe tbody tr th:only-of-type {\n",
       "        vertical-align: middle;\n",
       "    }\n",
       "\n",
       "    .dataframe tbody tr th {\n",
       "        vertical-align: top;\n",
       "    }\n",
       "\n",
       "    .dataframe thead th {\n",
       "        text-align: right;\n",
       "    }\n",
       "</style>\n",
       "<table border=\"1\" class=\"dataframe\">\n",
       "  <thead>\n",
       "    <tr style=\"text-align: right;\">\n",
       "      <th></th>\n",
       "      <th>house_condition_total_good</th>\n",
       "      <th>house_condition_total_livable</th>\n",
       "      <th>house_condition_total_dilapidated</th>\n",
       "    </tr>\n",
       "  </thead>\n",
       "  <tbody>\n",
       "    <tr>\n",
       "      <th>count</th>\n",
       "      <td>65.000000</td>\n",
       "      <td>65.000000</td>\n",
       "      <td>65.000000</td>\n",
       "    </tr>\n",
       "    <tr>\n",
       "      <th>mean</th>\n",
       "      <td>71.241538</td>\n",
       "      <td>27.646154</td>\n",
       "      <td>1.109231</td>\n",
       "    </tr>\n",
       "    <tr>\n",
       "      <th>std</th>\n",
       "      <td>13.210541</td>\n",
       "      <td>12.711303</td>\n",
       "      <td>0.866697</td>\n",
       "    </tr>\n",
       "    <tr>\n",
       "      <th>min</th>\n",
       "      <td>30.000000</td>\n",
       "      <td>9.600000</td>\n",
       "      <td>0.000000</td>\n",
       "    </tr>\n",
       "    <tr>\n",
       "      <th>25%</th>\n",
       "      <td>62.900000</td>\n",
       "      <td>19.100000</td>\n",
       "      <td>0.400000</td>\n",
       "    </tr>\n",
       "    <tr>\n",
       "      <th>50%</th>\n",
       "      <td>73.600000</td>\n",
       "      <td>25.600000</td>\n",
       "      <td>0.900000</td>\n",
       "    </tr>\n",
       "    <tr>\n",
       "      <th>75%</th>\n",
       "      <td>80.100000</td>\n",
       "      <td>34.800000</td>\n",
       "      <td>1.500000</td>\n",
       "    </tr>\n",
       "    <tr>\n",
       "      <th>max</th>\n",
       "      <td>90.100000</td>\n",
       "      <td>67.500000</td>\n",
       "      <td>4.100000</td>\n",
       "    </tr>\n",
       "  </tbody>\n",
       "</table>\n",
       "</div>"
      ],
      "text/plain": [
       "       house_condition_total_good  house_condition_total_livable  \\\n",
       "count                   65.000000                      65.000000   \n",
       "mean                    71.241538                      27.646154   \n",
       "std                     13.210541                      12.711303   \n",
       "min                     30.000000                       9.600000   \n",
       "25%                     62.900000                      19.100000   \n",
       "50%                     73.600000                      25.600000   \n",
       "75%                     80.100000                      34.800000   \n",
       "max                     90.100000                      67.500000   \n",
       "\n",
       "       house_condition_total_dilapidated  \n",
       "count                          65.000000  \n",
       "mean                            1.109231  \n",
       "std                             0.866697  \n",
       "min                             0.000000  \n",
       "25%                             0.400000  \n",
       "50%                             0.900000  \n",
       "75%                             1.500000  \n",
       "max                             4.100000  "
      ]
     },
     "execution_count": 9,
     "metadata": {},
     "output_type": "execute_result"
    }
   ],
   "source": [
    "df[['house_condition_total_good','house_condition_total_livable', 'house_condition_total_dilapidated']].describe()"
   ]
  },
  {
   "cell_type": "markdown",
   "id": "77aaad49-d502-4e6e-8ea5-b247bb808b3a",
   "metadata": {},
   "source": [
    "Show the first few lines for a subset of columns. "
   ]
  },
  {
   "cell_type": "markdown",
   "id": "86c0ac45-33e4-408c-a0e8-eab7045f18f2",
   "metadata": {},
   "source": [
    "<div class=\"alert alert-block alert-success\">\n",
    "    &#9745; <b>Notice</b> the <b>:</b> between the start and end columns (total and dilapidated below), that tells pandas it's a range!\n",
    "</div>"
   ]
  },
  {
   "cell_type": "code",
   "execution_count": 10,
   "id": "2411a843-b3e6-4b84-9d44-cd85f39c3083",
   "metadata": {},
   "outputs": [
    {
     "data": {
      "text/html": [
       "<div>\n",
       "<style scoped>\n",
       "    .dataframe tbody tr th:only-of-type {\n",
       "        vertical-align: middle;\n",
       "    }\n",
       "\n",
       "    .dataframe tbody tr th {\n",
       "        vertical-align: top;\n",
       "    }\n",
       "\n",
       "    .dataframe thead th {\n",
       "        text-align: right;\n",
       "    }\n",
       "</style>\n",
       "<table border=\"1\" class=\"dataframe\">\n",
       "  <thead>\n",
       "    <tr style=\"text-align: right;\">\n",
       "      <th></th>\n",
       "      <th>house_condition_total_total</th>\n",
       "      <th>house_condition_total_good</th>\n",
       "      <th>house_condition_total_livable</th>\n",
       "      <th>house_condition_total_dilapidated</th>\n",
       "    </tr>\n",
       "  </thead>\n",
       "  <tbody>\n",
       "    <tr>\n",
       "      <th>0</th>\n",
       "      <td>100</td>\n",
       "      <td>64.3</td>\n",
       "      <td>34.1</td>\n",
       "      <td>1.6</td>\n",
       "    </tr>\n",
       "    <tr>\n",
       "      <th>1</th>\n",
       "      <td>100</td>\n",
       "      <td>73.6</td>\n",
       "      <td>25.6</td>\n",
       "      <td>0.8</td>\n",
       "    </tr>\n",
       "    <tr>\n",
       "      <th>2</th>\n",
       "      <td>100</td>\n",
       "      <td>77.1</td>\n",
       "      <td>21.8</td>\n",
       "      <td>1.1</td>\n",
       "    </tr>\n",
       "    <tr>\n",
       "      <th>3</th>\n",
       "      <td>100</td>\n",
       "      <td>74.7</td>\n",
       "      <td>24.0</td>\n",
       "      <td>1.3</td>\n",
       "    </tr>\n",
       "    <tr>\n",
       "      <th>4</th>\n",
       "      <td>100</td>\n",
       "      <td>84.7</td>\n",
       "      <td>12.2</td>\n",
       "      <td>3.1</td>\n",
       "    </tr>\n",
       "  </tbody>\n",
       "</table>\n",
       "</div>"
      ],
      "text/plain": [
       "   house_condition_total_total  house_condition_total_good  \\\n",
       "0                          100                        64.3   \n",
       "1                          100                        73.6   \n",
       "2                          100                        77.1   \n",
       "3                          100                        74.7   \n",
       "4                          100                        84.7   \n",
       "\n",
       "   house_condition_total_livable  house_condition_total_dilapidated  \n",
       "0                           34.1                                1.6  \n",
       "1                           25.6                                0.8  \n",
       "2                           21.8                                1.1  \n",
       "3                           24.0                                1.3  \n",
       "4                           12.2                                3.1  "
      ]
     },
     "execution_count": 10,
     "metadata": {},
     "output_type": "execute_result"
    }
   ],
   "source": [
    "df.loc[:, 'house_condition_total_total':'house_condition_total_dilapidated'].head()"
   ]
  },
  {
   "cell_type": "code",
   "execution_count": 11,
   "id": "f543c8bb-449b-4606-b10c-50f5f28772b4",
   "metadata": {},
   "outputs": [
    {
     "data": {
      "text/plain": [
       "0     64.3\n",
       "1     73.6\n",
       "2     77.1\n",
       "3     74.7\n",
       "4     84.7\n",
       "      ... \n",
       "60    61.0\n",
       "61    78.7\n",
       "62    69.5\n",
       "63    76.8\n",
       "64    59.8\n",
       "Name: house_condition_total_good, Length: 65, dtype: float64"
      ]
     },
     "execution_count": 11,
     "metadata": {},
     "output_type": "execute_result"
    }
   ],
   "source": [
    "df.house_condition_total_good"
   ]
  },
  {
   "cell_type": "code",
   "execution_count": 12,
   "id": "a13d2a13-87f1-46cc-aebc-25e7aa56173a",
   "metadata": {},
   "outputs": [
    {
     "data": {
      "text/plain": [
       "<Axes: ylabel='Frequency'>"
      ]
     },
     "execution_count": 12,
     "metadata": {},
     "output_type": "execute_result"
    },
    {
     "data": {
      "image/png": "[encoded data removed]",
      "text/plain": [
       "<Figure size 640x480 with 1 Axes>"
      ]
     },
     "metadata": {},
     "output_type": "display_data"
    }
   ],
   "source": [
    "df.house_condition_total_good.plot.hist()"
   ]
  },
  {
   "cell_type": "markdown",
   "id": "7245d18c-fe8c-4c8b-a0b4-b303fc2f0033",
   "metadata": {},
   "source": [
    "Using the [documentation](https://pandas.pydata.org/docs/reference/api/pandas.DataFrame.plot.hist.html) can you work out how to change the plot so that:\n",
    "\n",
    "- There are 20 bins.\n",
    "- The plot is 70% opaque\n"
   ]
  },
  {
   "cell_type": "code",
   "execution_count": 13,
   "id": "e88e1e1a-bbc3-4712-a26e-a52e171391aa",
   "metadata": {},
   "outputs": [
    {
     "data": {
      "text/plain": [
       "<Axes: ylabel='Frequency'>"
      ]
     },
     "execution_count": 13,
     "metadata": {},
     "output_type": "execute_result"
    },
    {
     "data": {
      "image/png": "[encoded data removed]",
      "text/plain": [
       "<Figure size 640x480 with 1 Axes>"
      ]
     },
     "metadata": {},
     "output_type": "display_data"
    }
   ],
   "source": [
    "df.house_condition_total_good.plot.hist(bins=20, alpha=0.7)"
   ]
  },
  {
   "cell_type": "code",
   "execution_count": 14,
   "id": "9e144c74-f8ce-4f44-8d67-143724a9ec3a",
   "metadata": {},
   "outputs": [
    {
     "data": {
      "text/plain": [
       "<Axes: xlabel='house_condition_total_good', ylabel='house_condition_total_dilapidated'>"
      ]
     },
     "execution_count": 14,
     "metadata": {},
     "output_type": "execute_result"
    },
    {
     "data": {
      "image/png": "[encoded data removed]",
      "text/plain": [
       "<Figure size 640x480 with 2 Axes>"
      ]
     },
     "metadata": {},
     "output_type": "display_data"
    }
   ],
   "source": [
    "df.plot.hexbin(x='house_condition_total_good', y='house_condition_total_dilapidated', gridsize=20, cmap='viridis')"
   ]
  },
  {
   "cell_type": "markdown",
   "id": "99eedfe7-9181-4e62-bf77-0e1733d96575",
   "metadata": {},
   "source": [
    "It's (potentially) interesting tha there are a few wards that are a long way off the diagonal. Is there anything special about them? Let's try to select them out of the data! We're going to do this crudely using the data itself."
   ]
  },
  {
   "cell_type": "code",
   "execution_count": 15,
   "id": "299dba23-76a7-4511-a4b4-0e7b44af2508",
   "metadata": {},
   "outputs": [
    {
     "data": {
      "text/html": [
       "<div>\n",
       "<style scoped>\n",
       "    .dataframe tbody tr th:only-of-type {\n",
       "        vertical-align: middle;\n",
       "    }\n",
       "\n",
       "    .dataframe tbody tr th {\n",
       "        vertical-align: top;\n",
       "    }\n",
       "\n",
       "    .dataframe thead th {\n",
       "        text-align: right;\n",
       "    }\n",
       "</style>\n",
       "<table border=\"1\" class=\"dataframe\">\n",
       "  <thead>\n",
       "    <tr style=\"text-align: right;\">\n",
       "      <th></th>\n",
       "      <th>ward_no</th>\n",
       "      <th>area_name</th>\n",
       "      <th>house_condition_total_good</th>\n",
       "      <th>house_condition_total_dilapidated</th>\n",
       "    </tr>\n",
       "  </thead>\n",
       "  <tbody>\n",
       "    <tr>\n",
       "      <th>4</th>\n",
       "      <td>5</td>\n",
       "      <td>Jaipur (M Corp.) (Part) - Ward No.5</td>\n",
       "      <td>84.7</td>\n",
       "      <td>3.1</td>\n",
       "    </tr>\n",
       "    <tr>\n",
       "      <th>31</th>\n",
       "      <td>44</td>\n",
       "      <td>Jaipur (M Corp.) (Part) - Ward No.44</td>\n",
       "      <td>51.4</td>\n",
       "      <td>4.1</td>\n",
       "    </tr>\n",
       "    <tr>\n",
       "      <th>35</th>\n",
       "      <td>48</td>\n",
       "      <td>Jaipur (M Corp.) (Part) - Ward No.48</td>\n",
       "      <td>30.0</td>\n",
       "      <td>2.5</td>\n",
       "    </tr>\n",
       "    <tr>\n",
       "      <th>41</th>\n",
       "      <td>54</td>\n",
       "      <td>Jaipur (M Corp.) (Part) - Ward No.54</td>\n",
       "      <td>41.7</td>\n",
       "      <td>3.1</td>\n",
       "    </tr>\n",
       "    <tr>\n",
       "      <th>45</th>\n",
       "      <td>58</td>\n",
       "      <td>Jaipur (M Corp.) (Part) - Ward No.58</td>\n",
       "      <td>44.6</td>\n",
       "      <td>0.9</td>\n",
       "    </tr>\n",
       "    <tr>\n",
       "      <th>54</th>\n",
       "      <td>67</td>\n",
       "      <td>Jaipur (M Corp.) (Part) - Ward No.67</td>\n",
       "      <td>50.3</td>\n",
       "      <td>2.6</td>\n",
       "    </tr>\n",
       "    <tr>\n",
       "      <th>56</th>\n",
       "      <td>69</td>\n",
       "      <td>Jaipur (M Corp.) (Part) - Ward No.69</td>\n",
       "      <td>33.3</td>\n",
       "      <td>1.3</td>\n",
       "    </tr>\n",
       "  </tbody>\n",
       "</table>\n",
       "</div>"
      ],
      "text/plain": [
       "    ward_no                             area_name  house_condition_total_good  \\\n",
       "4         5   Jaipur (M Corp.) (Part) - Ward No.5                        84.7   \n",
       "31       44  Jaipur (M Corp.) (Part) - Ward No.44                        51.4   \n",
       "35       48  Jaipur (M Corp.) (Part) - Ward No.48                        30.0   \n",
       "41       54  Jaipur (M Corp.) (Part) - Ward No.54                        41.7   \n",
       "45       58  Jaipur (M Corp.) (Part) - Ward No.58                        44.6   \n",
       "54       67  Jaipur (M Corp.) (Part) - Ward No.67                        50.3   \n",
       "56       69  Jaipur (M Corp.) (Part) - Ward No.69                        33.3   \n",
       "\n",
       "    house_condition_total_dilapidated  \n",
       "4                                 3.1  \n",
       "31                                4.1  \n",
       "35                                2.5  \n",
       "41                                3.1  \n",
       "45                                0.9  \n",
       "54                                2.6  \n",
       "56                                1.3  "
      ]
     },
     "execution_count": 15,
     "metadata": {},
     "output_type": "execute_result"
    }
   ],
   "source": [
    "of_interest = df[\n",
    "                    ((df.house_condition_total_good < 55) | (df.house_condition_total_dilapidated > 3))\n",
    "                ].copy()\n",
    "of_interest[['ward_no','area_name','house_condition_total_good','house_condition_total_dilapidated']]"
   ]
  },
  {
   "cell_type": "code",
   "execution_count": null,
   "id": "6a362095-fcc3-45f6-a0ab-44eb2f4ab3ed",
   "metadata": {},
   "outputs": [],
   "source": []
  }
 ],
 "metadata": {
  "kernelspec": {
   "display_name": "Python 3 (ipykernel)",
   "language": "python",
   "name": "python3"
  },
  "language_info": {
   "codemirror_mode": {
    "name": "ipython",
    "version": 3
   },
   "file_extension": ".py",
   "mimetype": "text/x-python",
   "name": "python",
   "nbconvert_exporter": "python",
   "pygments_lexer": "ipython3",
   "version": "3.12.10"
  }
 },
 "nbformat": 4,
 "nbformat_minor": 5
}
