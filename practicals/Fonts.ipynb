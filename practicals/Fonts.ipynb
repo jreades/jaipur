{
 "cells": [
  {
   "cell_type": "markdown",
   "id": "b2770606-9b54-4ff1-935c-85a11297420f",
   "metadata": {},
   "source": [
    "# Using Fonts"
   ]
  },
  {
   "cell_type": "code",
   "execution_count": 1,
   "id": "1ee822f6-4200-4abd-a47d-7cada6f81668",
   "metadata": {},
   "outputs": [
    {
     "name": "stdout",
     "output_type": "stream",
     "text": [
      "DejaVu Sans\n",
      "DejaVu Sans Mono\n"
     ]
    }
   ],
   "source": [
    "import matplotlib.pyplot as plt\n",
    "\n",
    "# The default values\n",
    "print(plt.rcParams[\"font.sans-serif\"][0])\n",
    "print(plt.rcParams[\"font.monospace\"][0])"
   ]
  },
  {
   "cell_type": "code",
   "execution_count": 2,
   "id": "94968243-05d3-4608-973d-82177ad7b220",
   "metadata": {},
   "outputs": [
    {
     "data": {
      "text/html": [
       "<div style='column-count: 2;'><p>DejaVu Sans: <span style='font-family:DejaVu Sans; font-size: 24px;'>DejaVu Sans</p>\n",
       "<p>EB Garamond: <span style='font-family:EB Garamond; font-size: 24px;'>EB Garamond</p>\n",
       "<p>Geist Mono: <span style='font-family:Geist Mono; font-size: 24px;'>Geist Mono</p>\n",
       "<p>Hanken Grotesk: <span style='font-family:Hanken Grotesk; font-size: 24px;'>Hanken Grotesk</p>\n",
       "<p>Inconsolata: <span style='font-family:Inconsolata; font-size: 24px;'>Inconsolata</p>\n",
       "<p>JetBrains Mono: <span style='font-family:JetBrains Mono; font-size: 24px;'>JetBrains Mono</p>\n",
       "<p>League Gothic: <span style='font-family:League Gothic; font-size: 24px;'>League Gothic</p>\n",
       "<p>Liberation Mono: <span style='font-family:Liberation Mono; font-size: 24px;'>Liberation Mono</p>\n",
       "<p>Liberation Sans: <span style='font-family:Liberation Sans; font-size: 24px;'>Liberation Sans</p>\n",
       "<p>Liberation Serif: <span style='font-family:Liberation Serif; font-size: 24px;'>Liberation Serif</p>\n",
       "<p>Roboto Flex: <span style='font-family:Roboto Flex; font-size: 24px;'>Roboto Flex</p>\n",
       "<p>Roboto Mono: <span style='font-family:Roboto Mono; font-size: 24px;'>Roboto Mono</p>\n",
       "<p>Roboto Serif: <span style='font-family:Roboto Serif; font-size: 24px;'>Roboto Serif</p>\n",
       "<p>Roboto Slab: <span style='font-family:Roboto Slab; font-size: 24px;'>Roboto Slab</p>\n",
       "<p>Source Code Pro: <span style='font-family:Source Code Pro; font-size: 24px;'>Source Code Pro</p>\n",
       "<p>Source Sans Pro: <span style='font-family:Source Sans Pro; font-size: 24px;'>Source Sans Pro</p>\n",
       "<p>Ubuntu: <span style='font-family:Ubuntu; font-size: 24px;'>Ubuntu</p>\n",
       "<p>Ubuntu Condensed: <span style='font-family:Ubuntu Condensed; font-size: 24px;'>Ubuntu Condensed</p>\n",
       "<p>Ubuntu Mono: <span style='font-family:Ubuntu Mono; font-size: 24px;'>Ubuntu Mono</p></div>"
      ],
      "text/plain": [
       "<IPython.core.display.HTML object>"
      ]
     },
     "execution_count": 2,
     "metadata": {},
     "output_type": "execute_result"
    }
   ],
   "source": [
    "from matplotlib import font_manager\n",
    "from IPython.core.display import HTML\n",
    "\n",
    "flist = font_manager.findSystemFonts()\n",
    "names = [font_manager.FontProperties(fname=fname).get_name() for fname in flist]\n",
    "\n",
    "def make_html(fontname):\n",
    "    return \"<p>{font}: <span style='font-family:{font}; font-size: 24px;'>{font}</p>\".format(font=fontname)\n",
    "\n",
    "code = \"\\n\".join([make_html(font) for font in sorted(set(names))])\n",
    "\n",
    "HTML(\"<div style='column-count: 2;'>{}</div>\".format(code))"
   ]
  },
  {
   "cell_type": "code",
   "execution_count": 3,
   "id": "83f0eb3c-d407-4a09-806c-e75f5d50305a",
   "metadata": {},
   "outputs": [
    {
     "data": {
      "image/png": "[encoded data removed]",
      "text/plain": [
       "<Figure size 600x100 with 1 Axes>"
      ]
     },
     "metadata": {},
     "output_type": "display_data"
    }
   ],
   "source": [
    "def print_text(text):\n",
    "    font = {'fontname':'EB Garamond', 'fontstyle':'italic'}\n",
    "    fig, ax = plt.subplots(figsize=(6, 1), facecolor=\"#eefade\")\n",
    "    ax.text(0.5, 0.5, text, ha='center', va='center', size=40, **font)\n",
    "    ax.axis(\"off\")\n",
    "    plt.show()\n",
    "\n",
    "print_text(\"Hello World! 01\")"
   ]
  }
 ],
 "metadata": {
  "kernelspec": {
   "display_name": "Python 3 (ipykernel)",
   "language": "python",
   "name": "python3"
  },
  "language_info": {
   "codemirror_mode": {
    "name": "ipython",
    "version": 3
   },
   "file_extension": ".py",
   "mimetype": "text/x-python",
   "name": "python",
   "nbconvert_exporter": "python",
   "pygments_lexer": "ipython3",
   "version": "3.12.10"
  }
 },
 "nbformat": 4,
 "nbformat_minor": 5
}
