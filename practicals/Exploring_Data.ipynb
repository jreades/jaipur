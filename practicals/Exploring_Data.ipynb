{
 "cells": [
  {
   "cell_type": "markdown",
   "id": "191078fd-6a11-4beb-b708-544bd8fde4f2",
   "metadata": {},
   "source": [
    "# Exploring Data\n",
    "\n",
    "In this notebook we're just going to explore the data without trying to do anything 'complicated'. So if we have numeric, tabular data then we will work with it like it was in Excel. If we have spatial data we will work with it to make a map. We will *not* try to link them together until the very end. "
   ]
  },
  {
   "cell_type": "markdown",
   "id": "73f16a3c-6984-40fe-959f-16a165870dbf",
   "metadata": {},
   "source": [
    "## Downloading Data\n",
    "\n",
    "In this section we download the data from a remote server and save it to a working directory on our computer."
   ]
  },
  {
   "cell_type": "markdown",
   "id": "4f498132-215b-46c1-a19c-c65c13d84a13",
   "metadata": {},
   "source": [
    "### Setup"
   ]
  },
  {
   "cell_type": "code",
   "execution_count": null,
   "id": "c08020d6-4dd6-4aea-bbb9-2df225d17401",
   "metadata": {},
   "outputs": [],
   "source": [
    "from pathlib import Path\n",
    "\n",
    "src_dir = Path.home() / Path('work/data/clean')\n",
    "\n",
    "if not src_dir.exists():\n",
    "    src_dir.mkdir(parents=True)\n",
    "    print(f\"Creating a 'clean' directory for data in {src_dir}.\")"
   ]
  },
  {
   "cell_type": "markdown",
   "id": "f5d7b211-03bd-4641-a9ac-fc35ebbb6cf1",
   "metadata": {},
   "source": [
    "Below we are setting up some basic *variables* that we'll use to manage the download porcess. The data is all accessible from a CASA server called 'Orca' (`base_url`) and then we have a list of the data and geodata that we will need to download. Note that, when approaching a problem with code, we can be 'lazy' and not even specify the file extension (`.parquet`) because we can *add* then when downloading each file."
   ]
  },
  {
   "cell_type": "code",
   "execution_count": null,
   "id": "8bc4cc59-5998-42ed-b858-9effac0377ec",
   "metadata": {},
   "outputs": [],
   "source": [
    "base_url = 'https://orca.casa.ucl.ac.uk/~jreades/jaipur'\n",
    "\n",
    "files = [\n",
    "    'assets', 'condition', 'materials', 'occupancy', 'structure', 'utilities', 'ward_population', 'jaipur_population'\n",
    "]\n",
    "\n",
    "print(f\"The tabular data files are: {', '.join(files)}\")"
   ]
  },
  {
   "cell_type": "markdown",
   "id": "3901307f-115b-4a17-b732-8e3b16e32447",
   "metadata": {},
   "source": [
    "### Download\n",
    "\n",
    "Notice the `exists()` part -- we are checking for the existence of a file locally *before* we try to download it!"
   ]
  },
  {
   "cell_type": "code",
   "execution_count": null,
   "id": "2c799c77-bb33-4033-80fd-306f0af108b1",
   "metadata": {},
   "outputs": [],
   "source": [
    "# urlretrieve is a function (provided by Python) for \n",
    "# downloading a file from a URL and saving it locally\n",
    "from urllib.request import urlretrieve\n",
    "\n",
    "# For each tabular data file\n",
    "for f in files:\n",
    "    print(f\"Retrieving {f} table.\")\n",
    "    save_path = Path(src_dir / f\"{f}.parquet\")\n",
    "    if save_path.exists():\n",
    "        print(\"\\tAlready downloaded this data...\")\n",
    "    else: \n",
    "        print(\"\\tDownloading...\")\n",
    "        urlretrieve(f\"{base_url}/{f}.parquet\", save_path)"
   ]
  },
  {
   "cell_type": "markdown",
   "id": "dafee7d2-ac22-40b7-95d2-901f380349fb",
   "metadata": {},
   "source": [
    "## House Condition Data\n",
    "\n",
    "Reading tables (this can include Excel, CSV, and other types of tabular data) is easily done using the `pandas` library, which we here import using the `pd` alias, so wherever you see `pd.` we are using a tool from the pandas library. The name of a table in pandas is a 'data frame', often abbreviated to `df`.\n",
    "\n",
    "Read in the housing condition data for Jaipur. This is something that I prepared earlier using the code in the [Manage Data](./Manage_Data.ipynb) notebook. The code in that notebook is quite a bit more complex because the Census data is quite complex, but as you develop your understanding of pandas and Python you will probably find it useful!"
   ]
  },
  {
   "cell_type": "code",
   "execution_count": null,
   "id": "3bcaef84-fe56-4ab7-b74b-064c8eb764e2",
   "metadata": {},
   "outputs": [],
   "source": [
    "import pandas as pd"
   ]
  },
  {
   "cell_type": "code",
   "execution_count": null,
   "id": "a4cdb5cf-86c8-49ce-93a7-282558eae576",
   "metadata": {},
   "outputs": [],
   "source": [
    "df = pd.read_parquet(src_dir / 'condition.parquet')"
   ]
  },
  {
   "cell_type": "markdown",
   "id": "c65f685d-b154-4990-9e42-8297b365f44c",
   "metadata": {},
   "source": [
    "### Inspecting the Data Frame\n",
    "\n",
    "Pandas can speak to JupyterLab to produce prettily-formatted data like this:"
   ]
  },
  {
   "cell_type": "code",
   "execution_count": null,
   "id": "eec62a66-b68d-451d-b607-6a2a27730329",
   "metadata": {},
   "outputs": [],
   "source": [
    "df.head(3)"
   ]
  },
  {
   "cell_type": "markdown",
   "id": "56901cb2-dc50-42f6-8ea3-acdab99dc5ae",
   "metadata": {},
   "source": [
    "List the columns:"
   ]
  },
  {
   "cell_type": "code",
   "execution_count": null,
   "id": "5849a3d0-032f-442f-8647-fc370187b10e",
   "metadata": {},
   "outputs": [],
   "source": [
    "print(df.columns.to_list())"
   ]
  },
  {
   "cell_type": "markdown",
   "id": "28393e3f-de44-4eb2-a636-afbf6bfc149b",
   "metadata": {},
   "source": [
    "Get descriptive statistics for the data frame:"
   ]
  },
  {
   "cell_type": "code",
   "execution_count": null,
   "id": "1fd6715f-0132-45fb-bbb0-09a81c3cdc06",
   "metadata": {},
   "outputs": [],
   "source": [
    "df.describe()"
   ]
  },
  {
   "cell_type": "markdown",
   "id": "0f7233b9-9ab3-4dd8-96bc-62262bc08f1d",
   "metadata": {},
   "source": [
    "Get descriptive statistics for only a few columns from the data frame:"
   ]
  },
  {
   "cell_type": "code",
   "execution_count": null,
   "id": "73f763f0-fb3d-475a-8d9f-a1d6c5de0ca0",
   "metadata": {},
   "outputs": [],
   "source": [
    "df[['house_condition_total_good','house_condition_total_livable', 'house_condition_total_dilapidated']].describe()"
   ]
  },
  {
   "cell_type": "markdown",
   "id": "77aaad49-d502-4e6e-8ea5-b247bb808b3a",
   "metadata": {},
   "source": [
    "### Describing Data \n",
    "\n",
    "Show the first few lines for a subset of columns. "
   ]
  },
  {
   "cell_type": "markdown",
   "id": "86c0ac45-33e4-408c-a0e8-eab7045f18f2",
   "metadata": {},
   "source": [
    "<div class=\"alert alert-block alert-success\">\n",
    "    &#9745; <b>Notice</b> the <b>:</b> between the start and end columns (total and dilapidated below), that tells pandas it's a range!\n",
    "</div>"
   ]
  },
  {
   "cell_type": "code",
   "execution_count": null,
   "id": "2411a843-b3e6-4b84-9d44-cd85f39c3083",
   "metadata": {},
   "outputs": [],
   "source": [
    "df.loc[:, 'house_condition_total_total':'house_condition_total_dilapidated'].head()"
   ]
  },
  {
   "cell_type": "code",
   "execution_count": null,
   "id": "f543c8bb-449b-4606-b10c-50f5f28772b4",
   "metadata": {},
   "outputs": [],
   "source": [
    "df.house_condition_total_good"
   ]
  },
  {
   "cell_type": "markdown",
   "id": "d5009795-54a9-4059-a71b-5c108290af7c",
   "metadata": {},
   "source": [
    "### Simple Plots"
   ]
  },
  {
   "cell_type": "code",
   "execution_count": null,
   "id": "a13d2a13-87f1-46cc-aebc-25e7aa56173a",
   "metadata": {},
   "outputs": [],
   "source": [
    "df.house_condition_total_good.plot.hist()"
   ]
  },
  {
   "cell_type": "markdown",
   "id": "7245d18c-fe8c-4c8b-a0b4-b303fc2f0033",
   "metadata": {},
   "source": [
    "Using the [documentation](https://pandas.pydata.org/docs/reference/api/pandas.DataFrame.plot.hist.html) can you work out how to change the plot so that:\n",
    "\n",
    "- There are 20 bins.\n",
    "- The plot is 70% opaque\n"
   ]
  },
  {
   "cell_type": "code",
   "execution_count": null,
   "id": "e88e1e1a-bbc3-4712-a26e-a52e171391aa",
   "metadata": {},
   "outputs": [],
   "source": [
    "df.house_condition_total_good.plot.hist(bins=20, alpha=0.7)"
   ]
  },
  {
   "cell_type": "code",
   "execution_count": null,
   "id": "9e144c74-f8ce-4f44-8d67-143724a9ec3a",
   "metadata": {},
   "outputs": [],
   "source": [
    "df.plot.hexbin(x='house_condition_total_good', y='house_condition_total_dilapidated', gridsize=20, cmap='viridis')"
   ]
  },
  {
   "cell_type": "markdown",
   "id": "99eedfe7-9181-4e62-bf77-0e1733d96575",
   "metadata": {},
   "source": [
    "### Subsetting Data \n",
    "\n",
    "It's (potentially) interesting tha there are a few wards that are a long way off the diagonal. Is there anything special about them? Let's try to select them out of the data! We're going to do this crudely using the data itself."
   ]
  },
  {
   "cell_type": "code",
   "execution_count": null,
   "id": "299dba23-76a7-4511-a4b4-0e7b44af2508",
   "metadata": {},
   "outputs": [],
   "source": [
    "of_interest = df[\n",
    "                    ((df.house_condition_total_good < 55) | (df.house_condition_total_dilapidated > 3))\n",
    "                ].copy()\n",
    "of_interest[['ward_no','area_name','house_condition_total_good','house_condition_total_dilapidated']]"
   ]
  },
  {
   "cell_type": "markdown",
   "id": "fa16f565-bd12-4fd9-80c2-317622ea693d",
   "metadata": {},
   "source": [
    "## Population Data\n",
    "\n",
    "Let's look at a different data set now just so that we can see how the *same* process works with a completely different data set."
   ]
  },
  {
   "cell_type": "code",
   "execution_count": null,
   "id": "6ce305ac-3c09-486e-a78a-80da57a255a4",
   "metadata": {},
   "outputs": [],
   "source": [
    "df = pd.read_parquet(src_dir / 'ward_population.parquet')\n",
    "print(f\"There are {df.shape[0]:,} rows and {df.shape[1]:,} columns.\")\n",
    "df.head()"
   ]
  },
  {
   "cell_type": "markdown",
   "id": "8fee6d97-5166-43a6-a1ca-46777e798ae6",
   "metadata": {},
   "source": [
    "### Changing the Data Type"
   ]
  },
  {
   "cell_type": "code",
   "execution_count": null,
   "id": "303ede86-ad5b-456f-ab2a-759f6bc3d865",
   "metadata": {},
   "outputs": [],
   "source": [
    "for c in ['Level','Name','TRU']:\n",
    "    df[c] = df[c].astype('category')\n",
    "\n",
    "df.Level.value_counts()"
   ]
  },
  {
   "cell_type": "markdown",
   "id": "9aceac83-78ea-44e7-943e-1746df50d169",
   "metadata": {},
   "source": [
    "### Subsetting the Data\n",
    "\n",
    "Here we see a way of using two criteria to select the rows out of a data frame:\n",
    "\n",
    "1. We use the `Level` where the value is `WARD` AND\n",
    "2. The `Name` values that start with 'Jaipur'\n",
    "\n",
    "So *both* of these coniditions must be true for a row to be selected."
   ]
  },
  {
   "cell_type": "code",
   "execution_count": null,
   "id": "73512608-7ad9-4832-9e7f-8b1dcd8e45d7",
   "metadata": {},
   "outputs": [],
   "source": [
    "# If you don't add the `copy()` to the end of this command then you \n",
    "# will get the following warning:\n",
    "# A value is trying to be set on a copy of a slice from a DataFrame.\n",
    "jwards = df[(df.Level=='WARD') & (df.Name.str.startswith('Jaipur'))].copy()\n",
    "print(f\"Have selected {jwards.shape[0]:,} wards.\")"
   ]
  },
  {
   "cell_type": "markdown",
   "id": "42d92e74-ca66-4420-802f-80d6f29b5699",
   "metadata": {},
   "source": [
    "### A Joint Histogram"
   ]
  },
  {
   "cell_type": "code",
   "execution_count": null,
   "id": "d0e2f196-e412-4217-aa40-389c35b845af",
   "metadata": {},
   "outputs": [],
   "source": [
    "jwards.plot.hist(column=['TOT_M','TOT_F'], bins=25, alpha=0.3)"
   ]
  },
  {
   "cell_type": "markdown",
   "id": "498a1f99-1889-4f27-9865-a7ecb83577c2",
   "metadata": {},
   "source": [
    "### Data Transformation\n",
    "\n",
    "It's hard to make much of the *unnormalised* data -- raw values don't necessarily tell us much about the relationships and differences between places. Fortunately, Pandas makes it easy to achieve that."
   ]
  },
  {
   "cell_type": "code",
   "execution_count": null,
   "id": "df618e07-6a56-4351-8662-ddd4e53de9a2",
   "metadata": {},
   "outputs": [],
   "source": [
    "jwards['workm_lq'] = pd.Series((df.TOT_M / df.TOT_P) / (df.TOT_M.sum() / df.TOT_P.sum()))\n",
    "jwards.workm_lq.describe()"
   ]
  },
  {
   "cell_type": "code",
   "execution_count": null,
   "id": "19e09990-5689-41bd-9313-20a6ba0f0760",
   "metadata": {},
   "outputs": [],
   "source": [
    "jwards.workm_lq.plot.hist(bins=20)"
   ]
  },
  {
   "cell_type": "code",
   "execution_count": null,
   "id": "73d6c3d5-b505-4f7f-b2f5-4e48f4f7c810",
   "metadata": {},
   "outputs": [],
   "source": [
    "# The top 5%\n",
    "print(f\"The 95th percentile is {jwards.workm_lq.quantile(0.95):0.4f}\")"
   ]
  },
  {
   "cell_type": "code",
   "execution_count": null,
   "id": "eca327e0-dae5-421f-94a2-d9982944f828",
   "metadata": {},
   "outputs": [],
   "source": [
    "jwards[jwards.workm_lq > jwards.workm_lq.quantile(0.95)][['Name','TOT_P','TOT_M','TOT_F','workm_lq']]"
   ]
  }
 ],
 "metadata": {
  "kernelspec": {
   "display_name": "Python 3 (ipykernel)",
   "language": "python",
   "name": "python3"
  },
  "language_info": {
   "codemirror_mode": {
    "name": "ipython",
    "version": 3
   },
   "file_extension": ".py",
   "mimetype": "text/x-python",
   "name": "python",
   "nbconvert_exporter": "python",
   "pygments_lexer": "ipython3",
   "version": "3.12.10"
  }
 },
 "nbformat": 4,
 "nbformat_minor": 5
}
