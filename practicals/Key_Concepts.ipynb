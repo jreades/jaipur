{
 "cells": [
  {
   "cell_type": "markdown",
   "id": "015aa7d6-8cac-4bf8-885a-3373a4db1c9b",
   "metadata": {},
   "source": [
    "# Key Concepts\n",
    "\n",
    "An Introduction to Lists and Dictionaries\n",
    "\n",
    "In this notebook we are going to (briefly) look at two key concepts in\n",
    "Python (lists and dictionaries) as well as the basics of something\n",
    "called a package. This will hopefully help a lot with the content over\n",
    "the next three days!\n",
    "\n",
    "> **Connections**\n",
    ">\n",
    "> You will find links here to the Code Camp sessions on\n",
    "> [Functions](https://jreades.github.io/code-camp/lessons/Functions.html)\n",
    "> and\n",
    "> [Packages](https://jreades.github.io/code-camp/lessons/Packages.html),\n",
    "> as well as to this week’s lectures on\n",
    "> [Functions](https://jreades.github.io/fsds/sessions/week3.html#lectures)\n",
    "> and\n",
    "> [Packages](https://jreades.github.io/fsds/sessions/week3.html#lectures).\n",
    "\n",
    "## Lists\n",
    "\n",
    "Like a list on your phone, a Python list is just an ordered collection\n",
    "of ‘things’. They could be pretty juch *any* thing. Groceries. Largest\n",
    "Cities in the World. Most famous Indian actors. It doesn’t matter."
   ]
  },
  {
   "cell_type": "code",
   "execution_count": null,
   "id": "e0220229",
   "metadata": {},
   "outputs": [],
   "source": [
    "# A list is *create* using square brackets with items separated by commas\n",
    "my_list = ['Apples','Bananas','Lentils','Cleaning supplies',4,'A new hoover']\n",
    "\n",
    "# Basic info\n",
    "print(f\"Type of my_list is {type(my_list)}\")\n",
    "print(f\"Length of my_list is {len(my_list)}\")\n",
    "print()\n",
    "\n",
    "# The first item in the list\n",
    "print(my_list[0])\n",
    "print()\n",
    "\n",
    "# The last item in the list\n",
    "print(my_list[-1])\n",
    "print() \n",
    "\n",
    "# Loop over the list\n",
    "for i in my_list:\n",
    "    print(i)\n",
    "print()\n",
    "\n",
    "# Slightly different loop\n",
    "for i in range(0,len(my_list)):\n",
    "    print(f\"Item {i} is {my_list[i]}\")"
   ]
  },
  {
   "cell_type": "markdown",
   "id": "5bb74578-98bb-455b-919d-44b82fccd790",
   "metadata": {},
   "source": [
    "## Dictionaries\n",
    "\n",
    "A dictionary (or ‘dict’ for short) in Python is *kind* of like a real\n",
    "dictionary: you look up values using a word or other ‘key’!"
   ]
  },
  {
   "cell_type": "code",
   "execution_count": null,
   "id": "332043d9",
   "metadata": {},
   "outputs": [],
   "source": [
    "# A list is *create* using square brackets with items separated by commas\n",
    "my_dict = {'Apples':'Tasty','Bananas':'Tasty','Lentils':'Tasty','Cleaning supplies':'Not Tasty',4:'Not Tasty','A new hoover':'Not Tasty'}\n",
    "\n",
    "# Basic info\n",
    "print(f\"Type of my_dict is {type(my_dict)}\")\n",
    "print(f\"Size of my_dict is {len(my_dict)}\")\n",
    "print() \n",
    "\n",
    "# The first item in the list\n",
    "print(my_dict['Apples'])\n",
    "print()\n",
    "\n",
    "# The last item in the list\n",
    "print(my_dict['A new hoover'])\n",
    "print() \n",
    "\n",
    "# Loop over the list\n",
    "for k in my_dict.keys():\n",
    "    print(f\"{k} has value {my_dict[k]}\")"
   ]
  },
  {
   "cell_type": "markdown",
   "id": "b3ae860e-0c56-4337-87aa-6d9018ed32e1",
   "metadata": {},
   "source": [
    "## Packages\n",
    "\n",
    "A package is just some code that someone has written and shared with the\n",
    "rest of the world. Some of these are built into Python, some are ones\n",
    "that we can install ourselves after installing Python. Here we make use\n",
    "of *four* packages using variations of the `import` statement…"
   ]
  },
  {
   "cell_type": "code",
   "execution_count": null,
   "id": "edb4f7bf",
   "metadata": {},
   "outputs": [],
   "source": [
    "import urllib.request\n",
    "from PIL import Image\n",
    "from io import BytesIO\n",
    "import matplotlib.pyplot as plt\n",
    "\n",
    "url = \"https://jreades.github.io/jaipur/lectures/img/Octocat.png\"\n",
    "\n",
    "# Get the data\n",
    "response = urllib.request.urlopen(url)\n",
    "image_data = response.read()\n",
    "\n",
    "# Load the image\n",
    "img = Image.open(BytesIO(image_data))\n",
    "\n",
    "# Display the image\n",
    "plt.imshow(img)"
   ]
  },
  {
   "cell_type": "markdown",
   "id": "b83dcef8-d826-474a-9478-26ddb79ed462",
   "metadata": {},
   "source": [
    "## The Task\n",
    "\n",
    "Our basic task is to read a CSV file from a server and turn it into\n",
    "‘data’ that we can use. This might sound hard. It *is* hard when you’re\n",
    "just starting out in programming. But it is *not* hard for a computer…\n",
    "*iff* we can figure out what to tell it to do *and* make use of work\n",
    "that other people have done for us!\n",
    "\n",
    "### Break Down the Problem\n",
    "\n",
    "#### Step 1. Analyse the Problem\n",
    "\n",
    "We ***don’t*** write programs like we write essays: writing a whole lot\n",
    "of code and then hoping for the best when we hit ‘run’. You want to\n",
    "break it down into simple steps, and then tick them off one by one.\n",
    "Doing this gets easier as you become more familiar with programming.\n",
    "\n",
    "So for this problem we might *start* with:\n",
    "\n",
    "-   [ ] Find the data\n",
    "-   [ ] Download the data\n",
    "-   [ ] Read the data\n",
    "-   [ ] Load the data\n",
    "\n",
    "We might or might not need all of these steps. Or some steps might be\n",
    "easy, while others are hard! But now we can tackle each of those in\n",
    "turn: get the first bit working, then add the second bit, etc. It’s just\n",
    "like using Lego: you take the same pieces and assemble them in different\n",
    "ways to produce different things.\n",
    "\n",
    "#### Step 2. Functions & Packages\n",
    "\n",
    "Some steps in a program are done so many times by so many people that,\n",
    "eventually, someone writes a *package* that bundles up those operations\n",
    "into something easy to use. Packages can help us to achieve quite a lot\n",
    "very quickly since we just use someone else’s code. Often, if you’re not\n",
    "sure where to start, Google (or StackOverflow) is the place to go:\n",
    "\n",
    "[`how to read text file on web server python`](https://www.google.co.uk/search?q=how+to+read+text+file+on+web+server+python&oq=how+to+read+text+file+on+web+server+python&aqs=chrome..69i57.629j0j7&sourceid=chrome&ie=UTF-8)\n",
    "\n",
    "Boom!\n",
    "\n",
    "## Reading a Remote File\n",
    "\n",
    "So, we are going to [download a\n",
    "file](https://orca.casa.ucl.ac.uk/~jreades/jaipur/Wikipedia-Cities-simple.csv),\n",
    "but we **aren’t going to do antything else**. This is step #1, then we\n",
    "tackle the rest of the steps!\n",
    "\n",
    "Because we’re accessing data from a ‘URL’ we need to use the `urlopen`\n",
    "[function](https://docs.python.org/3.0/library/urllib.request.html?highlight=urlopen#urllib.request.urlopen)\n",
    "from the `urllib.request`\n",
    "[package](https://docs.python.org/3.0/library/urllib.request.html). If\n",
    "you’re wondering how we know to use this function and package, you might\n",
    "google something like: [read remote csv file\n",
    "python3](https://www.google.com/search?q=read+remote+csv+file+python3)\n",
    "which in turn might get you to a StackOverflow question and answer like\n",
    "[this](https://stackoverflow.com/questions/36965864/opening-a-url-with-urllib-in-python-3)."
   ]
  },
  {
   "cell_type": "markdown",
   "id": "47bd124f-568a-46ea-b743-366a0b3e58d5",
   "metadata": {},
   "source": [
    "``` python\n",
    "from urllib.request import urlopen\n",
    "help(urlopen)\n",
    "```\n",
    "\n",
    "    Help on function urlopen in module urllib.request:\n",
    "\n",
    "    urlopen(url, data=None, timeout=<object object at 0x104c2c8c0>, *, cafile=None, capath=None, cadefault=False, context=None)\n",
    "        Open the URL url, which can be either a string or a Request object.\n",
    "\n",
    "        *data* must be an object specifying additional data to be sent to\n",
    "        the server, or None if no such data is needed.  See Request for\n",
    "        details.\n",
    "\n",
    "        urllib.request module uses HTTP/1.1 and includes a \"Connection:close\"\n",
    "        header in its HTTP requests.\n",
    "\n",
    "        The optional *timeout* parameter specifies a timeout in seconds for\n",
    "        blocking operations like the connection attempt (if not specified, the\n",
    "        global default timeout setting will be used). This only works for HTTP,\n",
    "        HTTPS and FTP connections.\n",
    "\n",
    "        If *context* is specified, it must be a ssl.SSLContext instance describing\n",
    "        the various SSL options. See HTTPSConnection for more details.\n",
    "\n",
    "        The optional *cafile* and *capath* parameters specify a set of trusted CA\n",
    "        certificates for HTTPS requests. cafile should point to a single file\n",
    "        containing a bundle of CA certificates, whereas capath should point to a\n",
    "        directory of hashed certificate files. More information can be found in\n",
    "        ssl.SSLContext.load_verify_locations().\n",
    "\n",
    "        The *cadefault* parameter is ignored.\n",
    "\n",
    "\n",
    "        This function always returns an object which can work as a\n",
    "        context manager and has the properties url, headers, and status.\n",
    "        See urllib.response.addinfourl for more detail on these properties.\n",
    "\n",
    "        For HTTP and HTTPS URLs, this function returns a http.client.HTTPResponse\n",
    "        object slightly modified. In addition to the three new methods above, the\n",
    "        msg attribute contains the same information as the reason attribute ---\n",
    "        the reason phrase returned by the server --- instead of the response\n",
    "        headers as it is specified in the documentation for HTTPResponse.\n",
    "\n",
    "        For FTP, file, and data URLs and requests explicitly handled by legacy\n",
    "        URLopener and FancyURLopener classes, this function returns a\n",
    "        urllib.response.addinfourl object.\n",
    "\n",
    "        Note that None may be returned if no handler handles the request (though\n",
    "        the default installed global OpenerDirector uses UnknownHandler to ensure\n",
    "        this never happens).\n",
    "\n",
    "        In addition, if proxy settings are detected (for example, when a *_proxy\n",
    "        environment variable like http_proxy is set), ProxyHandler is default\n",
    "        installed and makes sure the requests are handled through the proxy.\n",
    "\n",
    "As you can see, there is *lot* of information here about how things\n",
    "work. A *lot* of it won’t make much sense at the moment. That’s ok.\n",
    "*Some* of this doesn’t make much sense to me, but that’s because this is\n",
    "the *full* documentation trying to cover *all* the bases. You don’t need\n",
    "to read every line of this, what you are looking is information about\n",
    "things like the ‘signature’ (what parameters the function accepts) and\n",
    "its output. Of course, you can also *just Google it*!\n",
    "\n",
    "> **Tip**\n",
    ">\n",
    "> Remember that you can use `dir(...)` and `help(...)` to investigate\n",
    "> what a package offers.\n",
    "\n",
    "Before you start working on the code, why not open the data file\n",
    "[directly in your\n",
    "browser](https://orca.casa.ucl.ac.uk/~jreades/jaipur/Wikipedia-Cities-simple.csv)?\n",
    "It’s pretty small, and it will give you a sense of what is going on."
   ]
  },
  {
   "cell_type": "code",
   "execution_count": null,
   "id": "f15c82c7",
   "metadata": {},
   "outputs": [],
   "source": [
    "from urllib.request import URLError\n",
    "from urllib.request import urlopen\n",
    "\n",
    "url = 'https://orca.casa.ucl.ac.uk/~jreades/jaipur/Wikipedia-Cities-simple.csv'\n",
    "\n",
    "# Read the URL into variable called 'response'\n",
    "# using the function that we imported above\n",
    "try:\n",
    "    response = urlopen(url)\n",
    "except URLError as e:\n",
    "    print(\"Unable to connect to URL!\")\n",
    "    print(e)\n",
    "\n",
    "# Now read from the stream, decoding so that we get actual text\n",
    "raw = response.read()\n",
    "\n",
    "# You might want to explore what `__class__` and `__name__`\n",
    "# are doing, but basically the give us a way of finding out what\n",
    "# is 'behind' more complex variables\n",
    "\n",
    "print(f\"'raw' variable is of type: '{raw.__class__.__name__}'.\")\n",
    "print(f\"Raw content is:\\n{raw[:75]}...\\n\")\n",
    "\n",
    "data = raw.decode('utf-8')\n",
    "\n",
    "print(f\"'data' variable is of type: '{data.__class__.__name__}'.\")\n",
    "print(f\"Decoded content is:\\n{data[:75]}...\")"
   ]
  },
  {
   "cell_type": "markdown",
   "id": "76731365-11c2-408c-afb2-09a2b75e9371",
   "metadata": {},
   "source": [
    "> **Note**\n",
    ">\n",
    "> Notice that the `raw` data has the format `b'...'` with all of the\n",
    "> data seemingly on one line, while the *decoded* version in `data` is\n",
    "> ‘correctly’ structured with lines! The ‘raw’ data is in *bytecode*\n",
    "> format which is not, strictly, a `string`. It only becomes a string\n",
    "> when we ‘decode it’ to `utf-8` (which is the ‘encoding’ of text that\n",
    "> supports most human languages). While the computer doesn’t\n",
    "> particularly care, we do!\n",
    "\n",
    "Remember that you can treat strings *as lists*, so when we `print` below\n",
    "we cut off the output using the `list[:<Some Number>]` syntax."
   ]
  },
  {
   "cell_type": "code",
   "execution_count": null,
   "id": "4ae14c5f",
   "metadata": {},
   "outputs": [],
   "source": [
    "print(f\"There are {len(data)} characters in the data variable.\")\n",
    "print(f\"The first 125 characters are: '{data[:125]}'\") # Notice that '\\n' count here!"
   ]
  },
  {
   "cell_type": "markdown",
   "id": "18458019-d443-436b-b329-2c1abac780dd",
   "metadata": {},
   "source": [
    "So this is definitely text, but it doesn’t (yet) look entirely like the\n",
    "data *we* see because it’s still just one long string, and not *data*\n",
    "which has individual records on each line. To split the text into\n",
    "individual lines, we can use the handily named `.splitlines()` method\n",
    "(more on methods below):"
   ]
  },
  {
   "cell_type": "code",
   "execution_count": null,
   "id": "921e129d",
   "metadata": {},
   "outputs": [],
   "source": [
    "rows = data.splitlines()\n",
    "print(f\"'rows' variable is of type: {rows.__class__.__name__}'.\")"
   ]
  },
  {
   "cell_type": "markdown",
   "id": "a7b6d80b-6315-4b90-bb3d-06578cbc72f4",
   "metadata": {},
   "source": [
    "Note now, how the *data* variable has type `list`. So to view the data\n",
    "as we see them in the original online file, we can now use a `for` loop\n",
    "to print out each element of the `list` (each element being a row of the\n",
    "original online file):"
   ]
  },
  {
   "cell_type": "code",
   "execution_count": null,
   "id": "43c5bf35",
   "metadata": {},
   "outputs": [],
   "source": [
    "print(f\"There are {len(rows)} rows of data.\")\n",
    "print(\"\\n\".join(rows[0:2])) # New syntax alert! notice we can *join* list elements"
   ]
  },
  {
   "cell_type": "markdown",
   "id": "b0544510-df2f-4f18-b441-4dd21ffeff76",
   "metadata": {},
   "source": [
    "That’s a little hard to read, though something has clearly changed.\n",
    "Let’s try printing the last row:"
   ]
  },
  {
   "cell_type": "code",
   "execution_count": null,
   "id": "6e2865b3",
   "metadata": {},
   "outputs": [],
   "source": [
    "print(rows[-1])"
   ]
  },
  {
   "cell_type": "markdown",
   "id": "80168fc9-4080-4078-b928-dbc1c0771f55",
   "metadata": {},
   "source": [
    "**Congratulations!** You’ve now read a text file sitting on a server in,\n",
    "I think, Canada and Python *didn’t care*. You’ve also converted a\n",
    "plain-text file to a row-formatted list.\n",
    "\n",
    "## Text into Data\n",
    "\n",
    "We now need to work on turning the list into useful data. We got partway\n",
    "there by splitting on line-breaks (`splitlines()`), but now we need to\n",
    "get columns for each line. You’ll notice that we are dealing with a\n",
    "*CSV* (Comma-Separated Value) file and that the format *looks* quite\n",
    "simple… So, in theory, to turn this into data we ‘just’ need to *split*\n",
    "each row into separate fields using the commas.\n",
    "\n",
    "There’s a handy function associated with strings called `split`:"
   ]
  },
  {
   "cell_type": "code",
   "execution_count": null,
   "id": "8357f52a",
   "metadata": {},
   "outputs": [],
   "source": [
    "test = rows[-1].split(',')\n",
    "print(test)\n",
    "print(f\"The population of {test[0]} is {int(test[1]):,}\")"
   ]
  },
  {
   "cell_type": "markdown",
   "id": "a506b482-0129-4407-a00f-07b19e204448",
   "metadata": {},
   "source": [
    "I’d say that we’re now getting quite close to something that looks like\n",
    "‘real data’: I know how to convert a raw response from a web server into\n",
    "a string, to split that string into rows, and can even access individual\n",
    "elements from a row!\n",
    "\n",
    "## The Advantages of a Package\n",
    "\n",
    "There are two problems to the `data.splitlines()` and `row.split(',')`\n",
    "approach! One of them is visible (though not obvious) in the examples\n",
    "above, the other is not.\n",
    "\n",
    "1.  `10` and `'10'` are *not* the same thing. To comma-format the\n",
    "    population of Sheffield you’ll see that I had to do `int(...)` in\n",
    "    order to turn `'685368'` into a number. So our approach so far\n",
    "    doesn’t know anything about the *type* of data we’re working with.\n",
    "2.  We are also implicitly *assuming* that commas can only appear at\n",
    "    field boundaries (i.e. that they can only appear to separate one\n",
    "    column of data from the next). In other words, just using\n",
    "    `split(',')` doesn’t work if *any* of the fields can themselves\n",
    "    contain a comma!\n",
    "3.  There’s actually a *third* potential issue, but it’s so rare that we\n",
    "    would need to take a completely different approach to deal with it:\n",
    "    we are also assuming that newlines (`\\n`) can only appear at record\n",
    "    boundaries (i.e. that the can only appear to separate one row of\n",
    "    data from the next). In those cases, using `splitlines()` also\n",
    "    doesn’t work, but this situation is (thankfully) very rare indeed.\n",
    "\n",
    "This is where using code that someone *else* who is much more interested\n",
    "(and knowledgeable) has written and contributed is helpful: we don’t\n",
    "need to think through how to deal with this sort of thing ourselves, we\n",
    "can just find a library that does what we need and make use of *its*\n",
    "functionality. I’ve given you the skeleton of the answer below, but\n",
    "you’ll need to do a little Googling to find out how to\n",
    "`\"read csv python\"`.\n",
    "\n",
    "**Note:** For now just focus on problem #2."
   ]
  },
  {
   "cell_type": "code",
   "execution_count": null,
   "id": "bad00bc7",
   "metadata": {},
   "outputs": [],
   "source": [
    "from urllib.request import urlopen\n",
    "import csv\n",
    "\n",
    "response = urlopen(url)\n",
    "raw = response.read()\n",
    "\n",
    "# Now take the raw data, decode it, and then\n",
    "# pass it over to the CSV reader function\n",
    "csvfile  = csv.reader(raw.decode('utf-8').splitlines()) \n",
    "\n",
    "urlData = [] # Somewhere to store the data\n",
    "for row in csvfile:              \n",
    "    urlData.append( row )\n",
    "\n",
    "print(\"urlData has \" + str(len(urlData)) + \" rows and \" + str(len(urlData[0])) + \" columns.\")\n",
    "print(urlData[-1]) # Check it worked!"
   ]
  },
  {
   "cell_type": "markdown",
   "id": "a44c2fed-d582-4e9b-8a0c-566638de8874",
   "metadata": {},
   "source": [
    "If it worked, then you should have this output:"
   ]
  },
  {
   "cell_type": "code",
   "execution_count": null,
   "id": "a46940d5",
   "metadata": {},
   "outputs": [],
   "source": []
  },
  {
   "cell_type": "markdown",
   "id": "fac72ae2-4a03-4732-a3be-1f10f80a03c5",
   "metadata": {},
   "source": [
    "To you that might look a lot *worse* that the data that you originally\n",
    "had, but to a computer that list-of-lists is something it can work with;\n",
    "check it out:"
   ]
  },
  {
   "cell_type": "code",
   "execution_count": null,
   "id": "a1ef3343",
   "metadata": {},
   "outputs": [],
   "source": [
    "for u in urlData[1:6]: # For each row in the first 5 items in list\n",
    "    print(f\"The city of '{u[0]}' has a population of {int(u[1]):,}\") # Print out the name and pop"
   ]
  },
  {
   "cell_type": "markdown",
   "id": "0a5c6731-69af-44d4-b3e6-93615f8ab85d",
   "metadata": {},
   "source": [
    "> **Note**\n",
    ">\n",
    "> Why did I use `urlData[1:]` instead of `urlData`?\n",
    ">\n",
    "> If you print `urlData[0]` you’ll see that this is the ‘header’ row\n",
    "> that tells us what each column contains! So if we try to convert the\n",
    "> column name to an integer (`int(u[1])`) we will get an error!\n",
    ">\n",
    "> The advantage of using the `csv` library over plain old `string.split`\n",
    "> is that the csv library knows how to deal with fields that contain\n",
    "> commas (*e.g.* `\"Cardfiff, Caerdydd\"` or\n",
    "> `\"An Amazing 4 Bedroom Home, Central London, Sleeps 12\"`) and so is\n",
    "> much more flexible and consistent that our naive `split` approach.\n",
    "\n",
    "Let’s try this with a ‘bigger’ data set… In an ideal world, the ‘power’\n",
    "of code is that once we’ve solved the problem *once*, we’ve solved it\n",
    "more generally as well. So let’s try with the ‘scaled-up’ data set and\n",
    "see waht happens!"
   ]
  },
  {
   "cell_type": "code",
   "execution_count": null,
   "id": "85451775",
   "metadata": {},
   "outputs": [],
   "source": [
    "from urllib.request import urlopen\n",
    "import csv\n",
    "\n",
    "url = \"https://orca.casa.ucl.ac.uk/~jreades/jaipur/Wikipedia-Cities.csv\"\n",
    "response = urlopen(url)\n",
    "raw = response.read()\n",
    "\n",
    "csvfile = csv.reader(raw.decode('utf-8').splitlines())\n",
    "\n",
    "urlData = [] # Somewhere to store the data\n",
    "\n",
    "for row in csvfile:              \n",
    "    urlData.append( row )\n",
    "\n",
    "print(f\"urlData has {len(urlData)} rows and {len(urlData[0])} columns.\")\n",
    "\n",
    "for u in urlData[70:]:  # For each row in the list\n",
    "    print(f\"The city of '{u[0]}' has a population of {u[1]}\") # Print out the name and pop"
   ]
  },
  {
   "cell_type": "markdown",
   "id": "6b5f4523-5e73-445f-9060-2a128791688d",
   "metadata": {},
   "source": [
    "> **What mistake have I made here?**\n",
    ">\n",
    "> I have assumed that, just because the files have similar names, they\n",
    "> must also have similar layouts!\n",
    ">\n",
    "> ``` python\n",
    "> print(f\"The URL's data labels are: {', '.join(urlData[0])}\")\n",
    "> ```\n",
    ">\n",
    ">     The URL's data labels are: City, Region, Founded, Population, URL, Longitude, Latitude\n",
    "\n",
    "## Insight!\n",
    "\n",
    "So, although the code was basically the same for both of these files\n",
    "(good), we would need to change quite a bit in order to print out the\n",
    "*same* information from different versions of the *same data*. So our\n",
    "code is rather **brittle**.\n",
    "\n",
    "One of the issues is that our *instincts* about how to manage data\n",
    "doesn’t align with how the computer can most *efficiently* manage it. We\n",
    "make the mistake of thinking that the computer needs to do things that\n",
    "same way that we do when reading text and so assume that we need to:\n",
    "\n",
    "1.  Represent the rows as a list.\n",
    "2.  Represent the columns as a list for each row.\n",
    "\n",
    "This thinking suggests that the ‘right’ data structure would clearly be\n",
    "a list-of-lists (LoLs!), but if you understand what happened here then\n",
    "the next section will make a *lot* more sense!\n",
    "\n",
    "## Why ‘Obvious’ is Not Always ‘Right’\n",
    "\n",
    "> **🔗 Connections**\n",
    ">\n",
    "> This section builds on the material covered by the [DOLs to\n",
    "> Data](https://jreades.github.io/fsds/sessions/week3.html#lectures)\n",
    "> lecture.\n",
    "\n",
    "> **Difficulty: Hard.**\n",
    "\n",
    "But you need to be careful assuming that, just because something is hard\n",
    "for you to read, it’s also hard for a computer to read! The way a\n",
    "computer ‘thinks’ and the way that we think doesn’t always line up\n",
    "naturally. Experienced programmers can think their way *around* a\n",
    "problem by working *with* the computer, rather than against it.\n",
    "\n",
    "Some issues to consider:\n",
    "\n",
    "-   Is the first row of data *actually* data, or is it *about* data?\n",
    "-   Do we really care about column *order*, or do we just care about\n",
    "    being able to pick the *correct* column?\n",
    "\n",
    "Let’s apply this approach to the parsing of our data…\n",
    "\n",
    "### Understanding What’s an ‘Appropriate’ Data Structure\n",
    "\n",
    "If you stop to think about it, then our list-of-lists approach to the\n",
    "data isn’t very easy to navigate. Notice that if the position or name of\n",
    "a column changes then we need to change our program *every* time we\n",
    "re-run it! It’s not very easy to read *either* since we don’t really\n",
    "know what `u[5]` is supposed to be. That way lies all kinds of potential\n",
    "errors!\n",
    "\n",
    "Also consider that, in order to calculate out even a simple aggregate\n",
    "such as the `sum` of a field for all rows we need to step through a lot\n",
    "of irrelevant data as well: we have to write a `for` loop and then step\n",
    "through each row with an ‘accumulator’ (somewhere to store the total).\n",
    "That’s slow.\n",
    "\n",
    "That doesn’t make much sense since this should all be *easier* and\n",
    "*faster* in Python than in Excel, but right now it’s *harder*, and quite\n",
    "possibly *slower* as well! So how does the experienced programmer get\n",
    "around this? ‘Simple’ (i.e. neither simple, nor obvious, until you know\n",
    "the answer): she realises that the data is organised the wrong way! We\n",
    "humans tend to think in rows of data: this apartment has the following\n",
    "*attributes* (price, location, etc.), or that city has the following\n",
    "*attributes* (population, location). We read across the row because\n",
    "that’s the easiest way for *us* to think about it. But, in short, a\n",
    "list-of-lists does *not* seem to be the right way to store this data!\n",
    "\n",
    "Crucially, a computer doesn’t have to work that way. For a computer,\n",
    "it’s as easy to read *down* a column as it is to read *across* a row.\n",
    "**In fact, it’s easier**, because each column has the same *type* of\n",
    "data: one column contains names (strings), another column contains\n",
    "prices (integers), and other columns contain other types of data\n",
    "(floats, etc.). Better still, the order of the columns often doesn’t\n",
    "matter as long as we know what the columns are called: it’s easier to\n",
    "ask for the ‘description column’ than it is to ask for the 6th column\n",
    "since, for all we know, the description column might be in a different\n",
    "place for different files but they are all (relatively) likely to use\n",
    "the ‘description’ label for the column itself.\n",
    "\n",
    "### A Dictionary of Lists to the Rescue\n",
    "\n",
    "So, if we don’t care about column order, only row order, then a\n",
    "dictionary of lists would be a nice way to handle things. And why should\n",
    "we care about column order? With our CSV files above we already saw what\n",
    "a pain it was to fix things when the layout of the columns changed from\n",
    "one data set to the next. If, instead, we can just reference the\n",
    "‘description’ column then it doesn’t matter where that column actually\n",
    "is. Why is that?\n",
    "\n",
    "Well, here are the first four rows of data from a list-of-lists for city\n",
    "sizes:\n",
    "\n",
    "``` python\n",
    "myData = [\n",
    "  ['id', 'Name', 'Rank', 'Longitude', 'Latitude', 'Population'], \n",
    "  ['1', 'Greater London', '1', '-18162.92767', '6711153.709', '9787426'], \n",
    "  ['2', 'Greater Manchester', '2', '-251761.802', '7073067.458', '2553379'], \n",
    "  ['3', 'West Midlands', '3', '-210635.2396', '6878950.083', '2440986']\n",
    "]\n",
    "```\n",
    "\n",
    "Now, here’s how it would look as a dictionary of lists organised by\n",
    "*column*, and *not* by row:"
   ]
  },
  {
   "cell_type": "code",
   "execution_count": null,
   "id": "38a234af",
   "metadata": {},
   "outputs": [],
   "source": [
    "myData = {\n",
    "    'id'         : [0, 1, 2, 3, 4, 5],\n",
    "    'Name'       : ['London', 'Manchester', 'Birmingham','Edinburgh','Inverness','Lerwick'],\n",
    "    'Rank'       : [1, 2, 3, 4, 5, 6],\n",
    "    'Longitude'  : [-0.128, -2.245, -1.903, -3.189, -4.223, -1.145],\n",
    "    'Latitude'   : [51.507, 53.479, 52.480, 55.953, 57.478, 60.155],\n",
    "    'Population' : [9787426, 2705000, 1141816, 901455, 70000, 6958],\n",
    "}\n",
    "\n",
    "print(myData['Name'])\n",
    "print(myData['Population'])"
   ]
  },
  {
   "cell_type": "markdown",
   "id": "9a5efec1-8e45-4ebe-9a1c-5e68eed8d890",
   "metadata": {},
   "source": [
    "What does this do better? Well, for starters, we know that everything in\n",
    "the ‘Name’ column will be a string, and that everything in the\n",
    "‘Longitude’ column is a float, while the ‘Population’ column contains\n",
    "integers. So that’s made life easier already, but the real benefit is\n",
    "coming up…\n",
    "\n",
    "### Behold the Power of the DoL\n",
    "\n",
    "Now let’s look at what you can do with this… but first we need to import\n",
    "one *more* package that you’re going to see a *lot* over the rest of\n",
    "term: `numpy` (Numerical Python), which is used *so* much that most\n",
    "people simply refer to it as `np`. This is a *huge* package in terms of\n",
    "features, but right now we’re interested only in the basic arithmatic\n",
    "functions: `mean`, `max`, and `min`.\n",
    "\n",
    "> **We’ll step through most of these in detail below.**\n",
    "\n",
    "Find the latitude of Manchester:"
   ]
  },
  {
   "cell_type": "code",
   "execution_count": null,
   "id": "e5b50652",
   "metadata": {},
   "outputs": [],
   "source": [
    "city = \"Manchester\"\n",
    "lat = myData['Latitude'][ myData['Name'].index(city) ]\n",
    "print(f\"{city}'s latitude is {lat}\")"
   ]
  },
  {
   "cell_type": "markdown",
   "id": "6550b029-952d-4edf-9dac-c50d11ca6dad",
   "metadata": {},
   "source": [
    "Print the location of Lerwick:"
   ]
  },
  {
   "cell_type": "code",
   "execution_count": null,
   "id": "053cdda7",
   "metadata": {},
   "outputs": [],
   "source": [
    "city = \"Lerwick\"\n",
    "print(f\"The town of {city} can be found at \" + \n",
    "      f\"{abs(myData['Longitude'][myData['Name'].index(city)])}ºW, {myData['Latitude'][myData['Name'].index(city)]}ºN\")"
   ]
  },
  {
   "cell_type": "markdown",
   "id": "06d8e28b-e11f-4620-bd0f-4a0c8f6dcff4",
   "metadata": {},
   "source": [
    "Find the easternmost city:"
   ]
  },
  {
   "cell_type": "code",
   "execution_count": null,
   "id": "f9d6e654",
   "metadata": {},
   "outputs": [],
   "source": [
    "city = myData['Name'][ myData['Longitude'].index( max(myData['Longitude']) ) ]\n",
    "print(f\"The easternmost city is: {city}\")"
   ]
  },
  {
   "cell_type": "markdown",
   "id": "36a19fcb-bd0e-4850-8288-7d74ee995bd5",
   "metadata": {},
   "source": [
    "Find the `mean` population of the cities using a handy package called\n",
    "numpy:"
   ]
  },
  {
   "cell_type": "code",
   "execution_count": null,
   "id": "4e7c8d24",
   "metadata": {},
   "outputs": [],
   "source": [
    "import numpy as np\n",
    "mean = np.mean(myData['Population'])\n",
    "print(f\"The mean population is: {mean}\")"
   ]
  },
  {
   "cell_type": "markdown",
   "id": "dccf4908-9e85-4afd-872a-9e63ef629248",
   "metadata": {},
   "source": [
    "> **Warning**\n",
    ">\n",
    "> **Stop!** Look closely at what is going on. There’s a *lot* of content\n",
    "> to process in the code above, so do *not* rush blindly on if this is\n",
    "> confusing. Try pulling it apart into pieces and then reassemble it.\n",
    "> Start with the bits that you understand and then *add* complexity.\n",
    "\n",
    "We’ll go through each one in turn, but they nearly all work in the same\n",
    "way and the really key thing is that you’ll notice that we no longer\n",
    "have any loops (which are slow) just `index` or `np.<function>` (which\n",
    "is *very* fast).\n",
    "\n",
    "### The Population of Manchester\n",
    "\n",
    "The code can look pretty daunting, so let’s break it down into two\n",
    "parts. What would you get if you ran just this code?"
   ]
  },
  {
   "cell_type": "code",
   "execution_count": null,
   "id": "ace0d364",
   "metadata": {},
   "outputs": [],
   "source": [
    "myData['Population'][1]"
   ]
  },
  {
   "cell_type": "markdown",
   "id": "56e0f8d2-6f47-4b5f-b9fd-01e9f26826db",
   "metadata": {},
   "source": [
    "Remember that this is a dictionary-of-lists (DoL). So, Python first\n",
    "looks for a key named `Population` in the myData dictionary. It finds\n",
    "out that the value associated with this key is a *list* and in this\n",
    "example, it just pulls out the second value (index `1`). Does **that\n",
    "part** make sense?\n",
    "\n",
    "Now, to the second part:"
   ]
  },
  {
   "cell_type": "code",
   "execution_count": null,
   "id": "e8aa42d0",
   "metadata": {},
   "outputs": [],
   "source": [
    "myData['Name'].index('Manchester')"
   ]
  },
  {
   "cell_type": "markdown",
   "id": "d2265ea2-7d39-45bf-af85-33c11ee95740",
   "metadata": {},
   "source": [
    "Here we look in the dictionary for the key `Name` and find that that’s\n",
    "*also* a list. All we’re doing here is asking Python to find the index\n",
    "of ‘Manchester’ for us in that list. And\n",
    "`myData['Name'].index('Manchester')` gives us back a `1`, so *instead*\n",
    "of just writing `myData['Population'][1]` we can replace the `1` with\n",
    "`myData['Name'].index('Manchester')`! Crucially, notice the complete\n",
    "*absence* of a for loop?\n",
    "\n",
    "Does that make sense? If it does then you should be having a kind of an\n",
    "🤯 moment because what we’ve done by taking a column view, rather than a\n",
    "row view, is to make Python’s `index()` command do the work for us.\n",
    "Instead of having to look through each row for a field that matches\n",
    "‘Name’ and then check to see if it’s ‘Manchester’, we’ve pointed Python\n",
    "at the right column immediately and asked it to find the match (which it\n",
    "can do very quickly). Once we have a match then we *also* have the row\n",
    "number to go and do the lookup in the ‘Population’ column because the\n",
    "index *is* the row number!\n",
    "\n",
    "### The Easternmost City\n",
    "\n",
    "Where this approach really comes into its own is on problems that\n",
    "involve maths. To figure out the easternmost city in this list we need\n",
    "to find the *maximum* Longitude and then use *that* value to look up the\n",
    "city name. So let’s do the same process of pulling this apart into two\n",
    "steps. Let start with the easier bit:"
   ]
  },
  {
   "cell_type": "code",
   "execution_count": null,
   "id": "c4a6d438",
   "metadata": {},
   "outputs": [],
   "source": [
    "myData['Name'][0]"
   ]
  },
  {
   "cell_type": "markdown",
   "id": "976dfec1-5200-43a4-b7f4-04e00cc0c79b",
   "metadata": {},
   "source": [
    "That would give us the name of a city, but we don’t just want the first\n",
    "city in the list, we want the one with the maximum longitude. To achieve\n",
    "*that* we need to somehow replace the `0` with the ***index of the\n",
    "maximum longitude***. Let’s break this down further:\n",
    "\n",
    "1.  We first need to *find* the maximum longitude.\n",
    "2.  We then need to *find* the **index** of that maximum longitude.\n",
    "\n",
    "So Step 1 would be:"
   ]
  },
  {
   "cell_type": "code",
   "execution_count": null,
   "id": "3152c267",
   "metadata": {},
   "outputs": [],
   "source": [
    "max_lon = max(myData['Longitude'])"
   ]
  },
  {
   "cell_type": "markdown",
   "id": "c5f5c1a7-f03f-4428-9fc6-c1e0a3720da2",
   "metadata": {},
   "source": [
    "Because the `max(...)` helps us to find the maximum longitude in the\n",
    "Longitude list. Now that we have that we can proceed to Step 2:"
   ]
  },
  {
   "cell_type": "code",
   "execution_count": null,
   "id": "b66cfe17",
   "metadata": {},
   "outputs": [],
   "source": [
    "myData['Longitude'].index(max_lon)"
   ]
  },
  {
   "cell_type": "markdown",
   "id": "f31763b1-fba6-4d70-9a0c-49ee5122989b",
   "metadata": {},
   "source": [
    "So now we ask Python to find the position of `max_lon` in the list. But\n",
    "rather than doing this in two steps we can combine into one if we write\n",
    "it down to make it easier to read:"
   ]
  },
  {
   "cell_type": "code",
   "execution_count": null,
   "id": "7f95c1ad",
   "metadata": {},
   "outputs": [],
   "source": [
    "myData['Longitude'].index(\n",
    "    max(myData['Longitude'])\n",
    ")"
   ]
  },
  {
   "cell_type": "markdown",
   "id": "b97401fb-4b72-4fdb-9e20-c24560cd6f2e",
   "metadata": {},
   "source": [
    "There’s the same `.index` which tells us that Python is going to look\n",
    "for something in the list associated with the `Longitude` key. All we’ve\n",
    "done is change what’s *inside* that index function to\n",
    "`max(myData['Longitude'])`. This is telling Python to find the *maximum*\n",
    "value in the `myData['Longitude']` list. So to explain this in three\n",
    "steps, what we’re doing is:\n",
    "\n",
    "-   Finding the maximum value in the Longitude column (we know there\n",
    "    must be one, but we don’t know what it is!),\n",
    "-   Finding the index (position) of that maximum value in the Longitude\n",
    "    column (now that we know what the value is!),\n",
    "-   Using that index to read a value out of the Name column.\n",
    "\n",
    "I *am* a geek, but that’s pretty cool, right? In one line of code we\n",
    "managed to quickly find out where the data we needed was even though it\n",
    "involved three discrete steps. Think about how much work you’d have to\n",
    "do if you were still thinking in *rows*, not *columns*!\n",
    "\n",
    "### The Location of Lerwick\n",
    "\n",
    "Lerwick is a small town in [the Shetlands](https://www.shetland.org/),\n",
    "way up to the North of mainland U.K. and somewhere I’ve wanted to go\n",
    "ever since I got back from [Orkney](https://www.orkney.com/)–but then I\n",
    "spent my honeymoon in the far North of\n",
    "[Iceland](https://www.westfjords.is/), so perhaps I just don’t like\n",
    "being around lots of people… 🙃\n",
    "\n",
    "Anyway, this one *might* be a tiny bit easier conceptually than the\n",
    "other problems, except that I’ve deliberately used a slightly different\n",
    "way of showing the output that might be confusing:\n",
    "\n",
    "Print the location of Lerwick:"
   ]
  },
  {
   "cell_type": "code",
   "execution_count": null,
   "id": "ea4c4865",
   "metadata": {},
   "outputs": [],
   "source": [
    "city = \"Lerwick\"\n",
    "print(f\"The town of {city} can be found at \" + \n",
    "      f\"{abs(myData['Longitude'][myData['Name'].index(city)])}ºW, {myData['Latitude'][myData['Name'].index(city)]}ºN\")"
   ]
  },
  {
   "cell_type": "markdown",
   "id": "c5420db0-4638-4019-b641-238947ee0bfd",
   "metadata": {},
   "source": [
    "The first thing to do is to pull apart the `print` statement: you can\n",
    "see that this is actually just two ‘f-strings’ joined by a `+`–having\n",
    "that at the end of the line tells Python that it should carry on to the\n",
    "next line. That’s a handy way to make your code a little easier to read.\n",
    "If you’re creating a list and it’s getting a little long, then you can\n",
    "also continue a line using a `,` as well!\n",
    "\n",
    "#### The first f-string\n",
    "\n",
    "The first string will help you to make sense of the second: f-strings\n",
    "allow you to ‘interpolate’ a variable into a string directly rather than\n",
    "having to have lots of `str(x) + \" some text \" + str(y)`. You can write\n",
    "`f\"{x} some text {y}\"` and Python will automatically convert the\n",
    "variables `x` and `y` to strings and replace `{x}` with the *value of\n",
    "`x`* and `{y}` with the *value of `y`*.\n",
    "\n",
    "So here `f\"The town of {city} can be found at \"` becomes\n",
    "`f\"The town of Lerwick can be found at \"` because `{city}` is replaced\n",
    "by the value of the variable `city`. This makes for code that is easier\n",
    "for humans to read and so I’d consider that a good thing.\n",
    "\n",
    "#### The second f-string\n",
    "\n",
    "This one is hard because there’s just a *lot* of code there. But, again,\n",
    "if we start with what we recognise that it gets just a little bit more\n",
    "manageable… Also, it stands to reason that the only difference between\n",
    "the two outputs is that one asks for the ‘Longitude’ and the other for\n",
    "the ‘Latitude’. So if you can make sense of one you have *automatically*\n",
    "made sense of the other and don’t need to work it all out.\n",
    "\n",
    "Let’s start with a part that you might recognise:"
   ]
  },
  {
   "cell_type": "code",
   "execution_count": null,
   "id": "5417c50f",
   "metadata": {},
   "outputs": [],
   "source": [
    "myData['Name'].index(city)"
   ]
  },
  {
   "cell_type": "markdown",
   "id": "76f1d747-edb9-44d1-a55a-9b30242baf7b",
   "metadata": {},
   "source": [
    "You’ve *got* this. This is just asking Python to work out the index of\n",
    "Lerwick (because `city = 'Lerwick'`). So it’s a number. 5 in this case.\n",
    "And we can then think, ’OK so what does this return:"
   ]
  },
  {
   "cell_type": "code",
   "execution_count": null,
   "id": "1cf608c4",
   "metadata": {},
   "outputs": [],
   "source": [
    "myData['Longitude'][5]"
   ]
  },
  {
   "cell_type": "markdown",
   "id": "20e4bd69-4f24-441b-9e87-3b983a89b177",
   "metadata": {},
   "source": [
    "And the answer is `-1.145`. That’s the Longitude of Lerwick! There’s\n",
    "just *one* last thing: notice that we’re talking about degrees West\n",
    "here. So the answer isn’t a negative (because negative West degrees\n",
    "would be *East*!), it’s the *absolute* value. And that is the final\n",
    "piece of the puzzle: `abs(...)` gives us the absolute value of a number!"
   ]
  },
  {
   "cell_type": "code",
   "execution_count": null,
   "id": "96652874",
   "metadata": {},
   "outputs": [],
   "source": [
    "help(abs)"
   ]
  },
  {
   "cell_type": "markdown",
   "id": "ab386c61-de1b-44a8-b403-1c5b39f47acb",
   "metadata": {},
   "source": [
    "### The Average City Size\n",
    "\n",
    "Here we’re going to ‘cheat’ a little bit: rather than writing our own\n",
    "function, we’re going to import a package and use someone *else’s*\n",
    "function. The `numpy` package contains a *lot* of useful functions that\n",
    "we can call on (if you don’t believe me, add “`dir(np)`” on a new line\n",
    "after the `import` statement), and one of them calculates the average of\n",
    "a list or array of data."
   ]
  },
  {
   "cell_type": "code",
   "execution_count": null,
   "id": "9f575cb2",
   "metadata": {},
   "outputs": [],
   "source": [
    "print(f\"The mean population is {np.mean(myData['Population'])}\")"
   ]
  },
  {
   "cell_type": "markdown",
   "id": "c9465fa6-7ede-4944-bd3c-e91670bf3d1e",
   "metadata": {},
   "source": [
    "This is where our new approach really comes into its own: because all of\n",
    "the population data is in one place (a.k.a. a *series* or column), we\n",
    "can just throw the whole list into the `np.mean` function rather than\n",
    "having to use all of those convoluted loops and counters. Simples,\n",
    "right?\n",
    "\n",
    "No, not *simple* at all, but we’ve come up with a way to *make* it\n",
    "simple.\n",
    "\n",
    "### Recap!\n",
    "\n",
    "So the *really* clever bit in all of this isn’t switching from a\n",
    "list-of-lists to a dictionary-of-lists, it’s recognising that the\n",
    "dictionary-of-lists is a *better* way to work *with* the data that we’re\n",
    "trying to analyse and that that there are useful functions that we can\n",
    "exploit to do the heavy lifting for us. Simply by changing the way that\n",
    "we stored the data in a ‘data structure’ (i.e. complex arrangement of\n",
    "lists, dictionaries, and variables) we were able to do away with lots of\n",
    "for loops and counters and conditions, and reduce many difficult\n",
    "operations to something that could be done on one line!"
   ]
  },
  {
   "cell_type": "markdown",
   "id": "29917d57-6951-4bfb-b196-1c70af8694a7",
   "metadata": {},
   "source": [
    "## Appending a Column\n",
    "\n",
    "Here's an example of where this approach comes into its own: let's calculate a z-score column based on the population of the cities in the data set.\n",
    "\n",
    "### Calculate Mean\n",
    "\n",
    "Let’s start by calculating the sample mean (use Google:\n",
    "`Python numpy mean...`):"
   ]
  },
  {
   "cell_type": "code",
   "execution_count": null,
   "id": "d87cdf2c",
   "metadata": {},
   "outputs": [],
   "source": [
    "import numpy as np\n",
    "# Use numpy functions to calculate mean and standard deviation\n",
    "mean = np.mean(myData['Population'])\n",
    "print(f\"City distribution has a mean of {mean:,.0f}.\")"
   ]
  },
  {
   "cell_type": "markdown",
   "id": "3b7caf39-605f-4d52-b22d-949559e938ba",
   "metadata": {},
   "source": [
    "### Calculate Standard Deviation\n",
    "\n",
    "Now let’s do the standard deviation:"
   ]
  },
  {
   "cell_type": "code",
   "execution_count": null,
   "id": "a0f4a772",
   "metadata": {},
   "outputs": [],
   "source": [
    "# Use numpy functions to calculate mean and standard deviation\n",
    "std  = np.std(myData['Population'])\n",
    "print(f\"City distribution has a standard deviation of {std:,.2f}.\")"
   ]
  },
  {
   "cell_type": "markdown",
   "id": "2331eadf-38ea-463e-bcc2-8d5ab9f44f3a",
   "metadata": {},
   "source": [
    "So the `numpy` package gives us a way to calculate the mean and standard\n",
    "deviation *quickly* and without having to reinvent the wheel. The other\n",
    "potentially new thing here is `{std:,.2f}`. This is about [string\n",
    "formatting](https://www.w3schools.com/python/ref_string_format.asp) and\n",
    "the main thing to recognise is that this means ‘format this float with\n",
    "commas separating the thousands/millions and 2 digits to the right’. The\n",
    "link I’ve provided uses the slightly older approach of `<str>.format()`\n",
    "but the formatting approach is the same.\n",
    "\n",
    "### For Loops Without For Loops\n",
    "\n",
    "> **Difficulty level: Medium.**\n",
    "\n",
    "Now we’re going to see something called a **List Comprehension**.\n",
    "\n",
    "In Python you will see code like this a lot: `[x for x in list]`. This\n",
    "syntax is known as a ‘list comprehension’ and is basically a `for` loop\n",
    "on one line with the output being assigned to a list. So we can apply an\n",
    "operation (converting to a string, subtracting a value, etc.) to every\n",
    "item in a list without writing out a full for loop.\n",
    "\n",
    "Here’s a quick example just to show you what’s going on:"
   ]
  },
  {
   "cell_type": "code",
   "execution_count": null,
   "id": "ab0ac7e5",
   "metadata": {},
   "outputs": [],
   "source": [
    "demo = range(0,10) # <- a *range* of numbers between 0 and 9 (stop at 10)\n",
    "print([x**2 for x in demo]) # square every element of demo"
   ]
  },
  {
   "cell_type": "markdown",
   "id": "58a16780-18ae-4a8a-bb0c-5eedb26e71eb",
   "metadata": {},
   "source": [
    "Now let’s apply this to our problem. We calculated the the mean and\n",
    "standard deviation above, so now we want to apply the z-score formula to\n",
    "every element of the Population list… Remember that the format for the\n",
    "z-score (when dealing with a sample) is:\n",
    "\n",
    "$$\n",
    "z = \\frac{x - \\bar{x}}{s}\n",
    "$$\n",
    "\n",
    "And the population standard deviation (by which I mean, if you are\n",
    "dealing with *all* the data, and not a subsample as we are here) is:\n",
    "\n",
    "$$\n",
    "z = \\frac{x - \\mu}{\\sigma}\n",
    "$$"
   ]
  },
  {
   "cell_type": "code",
   "execution_count": null,
   "id": "67c93e3d",
   "metadata": {},
   "outputs": [],
   "source": [
    "rs = [(x - mean)/std for x in myData['Population']] # rs == result set\n",
    "print([f\"{x:.3f}\" for x in rs])"
   ]
  },
  {
   "cell_type": "markdown",
   "id": "88d46af1-bfc4-4c9f-aebd-84d6c5663c38",
   "metadata": {},
   "source": [
    "### Appending\n",
    "\n",
    "> **Difficulty level: trivial**\n",
    "\n",
    "And now let’s add it to the data set:"
   ]
  },
  {
   "cell_type": "code",
   "execution_count": null,
   "id": "412d34cb",
   "metadata": {},
   "outputs": [],
   "source": [
    "myData['Std. Population'] = rs\n",
    "print(myData['Std. Population'])"
   ]
  },
  {
   "cell_type": "markdown",
   "id": "c3194040-c9d7-4dcb-b2c7-b956c94cb8d3",
   "metadata": {},
   "source": [
    "And just to show how everything is in a single data structure:"
   ]
  },
  {
   "cell_type": "code",
   "execution_count": null,
   "id": "34cf9d54",
   "metadata": {},
   "outputs": [],
   "source": [
    "for c in myData['Name']:\n",
    "    idx = myData['Name'].index(c)\n",
    "    print(f\"{c} has a population of {myData['Population'][idx]:,} and standardised score of {myData['Std. Population'][idx]:.3f}\")"
   ]
  },
  {
   "cell_type": "markdown",
   "id": "20031a2b-c64b-434c-b43e-7d2c1767af50",
   "metadata": {},
   "source": [
    "## What's It All Mean\n",
    "\n",
    "Why have we done all of this today? Where are we going?\n",
    "\n",
    "Well, here's another way:"
   ]
  },
  {
   "cell_type": "code",
   "execution_count": null,
   "id": "c9816584-0dd8-418c-9815-7e04653d94cd",
   "metadata": {},
   "outputs": [],
   "source": [
    "import pandas as pd\n",
    "\n",
    "df = pd.read_csv('https://orca.casa.ucl.ac.uk/~jreades/jaipur/Wikipedia-Cities.csv')"
   ]
  },
  {
   "cell_type": "code",
   "execution_count": null,
   "id": "12274ce4-72d2-4050-8890-3bdba1dfeaf1",
   "metadata": {},
   "outputs": [],
   "source": [
    "df.head()"
   ]
  },
  {
   "cell_type": "code",
   "execution_count": null,
   "id": "a85a06f0-7f22-4fca-829e-5513f2eecac6",
   "metadata": {},
   "outputs": [],
   "source": [
    "print(f\"The mean city population is {df['Population'].mean():0.2f}\")\n",
    "\n",
    "print(f\"The westernmost city is {df[df['Longitude']==df['Longitude'].min()].City.iloc[0]}\")"
   ]
  }
 ],
 "metadata": {
  "kernelspec": {
   "display_name": "Python 3 (ipykernel)",
   "language": "python",
   "name": "python3"
  },
  "language_info": {
   "codemirror_mode": {
    "name": "ipython",
    "version": 3
   },
   "file_extension": ".py",
   "mimetype": "text/x-python",
   "name": "python",
   "nbconvert_exporter": "python",
   "pygments_lexer": "ipython3",
   "version": "3.12.10"
  }
 },
 "nbformat": 4,
 "nbformat_minor": 5
}
