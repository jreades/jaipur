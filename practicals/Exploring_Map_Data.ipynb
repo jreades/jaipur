{
 "cells": [
  {
   "cell_type": "markdown",
   "id": "027f96fb-9faf-4c92-b11b-488140a6a125",
   "metadata": {},
   "source": [
    "# Exploring Geo-Data"
   ]
  },
  {
   "cell_type": "markdown",
   "id": "24e11f27-1c42-4f20-ad92-b0ef93474809",
   "metadata": {},
   "source": [
    "## Loading Data\n",
    "\n",
    "In this section we download the data from a remote server and save it to a working directory on our computer."
   ]
  },
  {
   "cell_type": "markdown",
   "id": "7f23a5e0-bf0c-477b-9ea5-792fe1e6661d",
   "metadata": {},
   "source": [
    "### Setup"
   ]
  },
  {
   "cell_type": "code",
   "execution_count": null,
   "id": "c08020d6-4dd6-4aea-bbb9-2df225d17401",
   "metadata": {},
   "outputs": [],
   "source": [
    "from pathlib import Path\n",
    "\n",
    "src_dir = Path.home() / Path('work/data/clean')\n",
    "\n",
    "if not src_dir.exists():\n",
    "    src_dir.mkdir(parents=True)\n",
    "    print(f\"Creating a 'clean' directory for data in {src_dir}.\")"
   ]
  },
  {
   "cell_type": "markdown",
   "id": "4c0defb8-778e-4562-85ca-70306d042de3",
   "metadata": {},
   "source": [
    "Below we are setting up some basic *variables* that we'll use to manage the download porcess. The data is all accessible from a CASA server called 'Orca' (`base_url`) and then we have a list of the data and geodata that we will need to download. Note that, when approaching a problem with code, we can be 'lazy' and not even specify the file extension (`.parquet`) because we can *add* then when downloading each file."
   ]
  },
  {
   "cell_type": "code",
   "execution_count": null,
   "id": "8bc4cc59-5998-42ed-b858-9effac0377ec",
   "metadata": {},
   "outputs": [],
   "source": [
    "base_url = 'https://orca.casa.ucl.ac.uk/~jreades/jaipur'\n",
    "\n",
    "geofiles = [\n",
    "    'Jaipur_Boundary', 'Jaipur_Wards', 'northern-zone-lines', 'northern-zone-multilines', 'northern-zone-multipolygons', \n",
    "    'northern-zone-other', 'northern-zone-points', 'India_Country_Boundary', 'India_State_Boundary'\n",
    "]\n",
    "\n",
    "print(f\"The geo-data files are: {', '.join(geofiles)}\")"
   ]
  },
  {
   "cell_type": "markdown",
   "id": "bf6f0c2d-0fc3-408c-8a1c-73b6455f08c9",
   "metadata": {},
   "source": [
    "### Download\n",
    "\n",
    "Notice the `exists()` part -- we are checking for the existence of a file locally *before* we try to download it!"
   ]
  },
  {
   "cell_type": "code",
   "execution_count": null,
   "id": "2c799c77-bb33-4033-80fd-306f0af108b1",
   "metadata": {},
   "outputs": [],
   "source": [
    "# urlretrieve is a function (provided by Python) for \n",
    "# downloading a file from a URL and saving it locally\n",
    "from urllib.request import urlretrieve\n",
    "\n",
    "# For each geo-data file\n",
    "for f in geofiles:\n",
    "    print(f\"Retrieving {f} table.\")\n",
    "    save_path = Path(src_dir / f\"{f}.geoparquet\")\n",
    "    if save_path.exists():\n",
    "        print(\"\\tAlready downloaded this data...\")\n",
    "    else: \n",
    "        print(\"\\tDownloading...\")\n",
    "        urlretrieve(f\"{base_url}/{f}.geoparquet\", save_path)"
   ]
  },
  {
   "cell_type": "markdown",
   "id": "7e1eda2e-3162-4785-8e0e-70a6a48399bd",
   "metadata": {},
   "source": [
    "## Geo-Data\n",
    "\n",
    "All *geo*-data needs to be read in using *geo*-pandas, which we import using an 'alias' (`gpd`) to save time."
   ]
  },
  {
   "cell_type": "code",
   "execution_count": null,
   "id": "bde241e0-b426-40d4-8f10-a78cc3d46b4d",
   "metadata": {},
   "outputs": [],
   "source": [
    "import geopandas as gpd # We only need to do this *once*"
   ]
  },
  {
   "cell_type": "markdown",
   "id": "9bae76fe-889a-42d7-aa85-f141e38486be",
   "metadata": {},
   "source": [
    "## A Base Map\n",
    "\n",
    "This next group of commands isn't very friendly to the orca server (especially if you *keep* running this code!), but it is useful for demonstrating that you can even read a file on another server when it's in the parquet format. We literally just 'request' the file and geopandas can load it dynamically. "
   ]
  },
  {
   "cell_type": "code",
   "execution_count": null,
   "id": "80a73652-e87a-430e-a98f-563cd497b9a9",
   "metadata": {},
   "outputs": [],
   "source": [
    "import requests, io\n",
    "result = requests.get(f\"{base_url}/India_Country_Boundary.geoparquet\")\n",
    "india = gpd.read_parquet(io.BytesIO(result.content))\n",
    "india.plot()"
   ]
  },
  {
   "cell_type": "code",
   "execution_count": null,
   "id": "1edd795b-b0cd-42e4-b3a9-624f2a50a526",
   "metadata": {},
   "outputs": [],
   "source": [
    "istates = gpd.read_parquet(src_dir / 'India_State_Boundary.geoparquet')\n",
    "istates.plot()"
   ]
  },
  {
   "cell_type": "code",
   "execution_count": null,
   "id": "551296b3-90c8-451d-bccf-c9722713637d",
   "metadata": {},
   "outputs": [],
   "source": [
    "istates.head()"
   ]
  },
  {
   "cell_type": "code",
   "execution_count": null,
   "id": "056ca136-9ca1-4c43-85c5-ceaeeac42a53",
   "metadata": {},
   "outputs": [],
   "source": [
    "raja = istates[istates.State_Name=='Rajasthan']\n",
    "raja.plot()"
   ]
  },
  {
   "cell_type": "code",
   "execution_count": null,
   "id": "cbf855f4-c695-4e85-91e6-a11e7be86365",
   "metadata": {},
   "outputs": [],
   "source": [
    "import matplotlib.pyplot as plt\n",
    "from matplotlib_scalebar.scalebar import ScaleBar\n",
    "from matplotlib_map_utils.core.north_arrow import NorthArrow, north_arrow\n",
    "\n",
    "f, ax = plt.subplots(1,1,figsize=(7,7))\n",
    "india.plot(ax=ax)\n",
    "raja.plot(color='red', ax=ax)\n",
    "plt.text(raja.centroid.x.iloc[0], raja.centroid.y.iloc[0], 'Rajasthan', horizontalalignment='center', verticalalignment='center')\n",
    "scalebar = ScaleBar(1)\n",
    "ax.add_artist(scalebar)\n",
    "north_arrow(\n",
    "    ax, location=\"lower left\", rotation={\"crs\": india.crs, \"reference\": \"center\"}\n",
    ")"
   ]
  },
  {
   "cell_type": "markdown",
   "id": "76c0918c-af83-4af9-8929-d0fa1a76f1b3",
   "metadata": {},
   "source": [
    "## Exploring Jaipur\n",
    "\n",
    "Let's start by exploring the boundary file for Jaipur, which we downloaded from Orca and are now going to read in."
   ]
  },
  {
   "cell_type": "code",
   "execution_count": null,
   "id": "4c2be0c4-64df-4dec-8929-caadffc6bd0c",
   "metadata": {},
   "outputs": [],
   "source": [
    "jp = gpd.read_parquet(src_dir / 'Jaipur_Boundary.geoparquet')\n",
    "# What does it contain?\n",
    "print(f\"`jp` has shape: {jp.shape}\")"
   ]
  },
  {
   "cell_type": "markdown",
   "id": "da043083-ca7b-4ede-b339-8fe5e24fdcc2",
   "metadata": {},
   "source": [
    "That `shape` output isn't very intelligible; fortunately, we with a small file we can also *show* what it contains quite easily."
   ]
  },
  {
   "cell_type": "code",
   "execution_count": null,
   "id": "cab2fa34-7cf9-46fb-a2db-7a3b7388b86c",
   "metadata": {},
   "outputs": [],
   "source": [
    "jp"
   ]
  },
  {
   "cell_type": "code",
   "execution_count": null,
   "id": "a7ee7f0d-c84f-4226-a8d5-900779f91db0",
   "metadata": {},
   "outputs": [],
   "source": [
    "jp.Id # `loc[<index identifier>]` is how we access an individual row"
   ]
  },
  {
   "cell_type": "code",
   "execution_count": null,
   "id": "53ba14b5-8c1b-402b-a2f2-5beaaa478098",
   "metadata": {},
   "outputs": [],
   "source": [
    "jp.geometry"
   ]
  },
  {
   "cell_type": "markdown",
   "id": "7d636d7a-c1e5-4a4f-9243-e830d8159765",
   "metadata": {},
   "source": [
    "Notice the `0` on the left: that's the same `0` shown in bold when we just run `jp`. This is an **index**, which is a kind of row identifier. Technically, indexes can be labels or numbers, but here we just have the row number.\n",
    "\n",
    "So, that's all well and good, but what does it look like? Let's find out!"
   ]
  },
  {
   "cell_type": "code",
   "execution_count": null,
   "id": "6ea56f92-ee31-406a-a55a-0127498709f4",
   "metadata": {},
   "outputs": [],
   "source": [
    "jp.plot();"
   ]
  },
  {
   "cell_type": "code",
   "execution_count": null,
   "id": "cb3a0e9f-9c40-4ff6-a3a9-7e2f69927f04",
   "metadata": {},
   "outputs": [],
   "source": [
    "jp.plot(color='red');"
   ]
  },
  {
   "cell_type": "code",
   "execution_count": null,
   "id": "842b6ab3-3830-40d0-8dd0-219d3e886abc",
   "metadata": {},
   "outputs": [],
   "source": [
    "osml = gpd.read_parquet(src_dir / 'northern-zone-lines.geoparquet')\n",
    "osml.plot();"
   ]
  },
  {
   "cell_type": "markdown",
   "id": "5c2daeb9-f8e4-4846-95a4-6cc120b0acf4",
   "metadata": {},
   "source": [
    "To show these together we need to combine them into one plot. The way we do this in Python is as follows:"
   ]
  },
  {
   "cell_type": "code",
   "execution_count": null,
   "id": "5660c939-df5e-4c26-bc1b-f6e6f05d10eb",
   "metadata": {},
   "outputs": [],
   "source": [
    "import matplotlib.pyplot as plt\n",
    "\n",
    "f, axis = plt.subplots(1,1,figsize=(7,5))\n",
    "axis.set_title(\"Broken Map\")\n",
    "jp.plot(color='red', ax=axis)\n",
    "osml.plot(color='orange', ax=axis);"
   ]
  },
  {
   "cell_type": "markdown",
   "id": "688f75db-6ebd-403b-8435-e1173abdeb84",
   "metadata": {},
   "source": [
    "<div class=\"alert alert-block alert-warning\">\n",
    "\n",
    "### &#9888; Warning\n",
    "\n",
    "That 'map' doesn't look right, does it? Can the *planners* tell us why? Below is a hint...\n",
    "\n",
    "</div>"
   ]
  },
  {
   "cell_type": "code",
   "execution_count": null,
   "id": "3f5fc02a-b968-4248-a2fb-2561b7c943fd",
   "metadata": {},
   "outputs": [],
   "source": [
    "print(f\"The Jaipur CRS (map projection) is: {jp.crs.name}\")\n",
    "print()\n",
    "print(f\"The OSM Lines CRS (map projection) is: {osml.crs.name}\")"
   ]
  },
  {
   "cell_type": "markdown",
   "id": "66576d42-fc55-418f-a45d-fe92b7d8e8a6",
   "metadata": {},
   "source": [
    "### A Quick Map"
   ]
  },
  {
   "cell_type": "code",
   "execution_count": null,
   "id": "692c7fd7-20fb-43cf-9b54-25fec6f0f5a6",
   "metadata": {},
   "outputs": [],
   "source": [
    "f, axis = plt.subplots(1,1,figsize=(7,5))\n",
    "axis.set_title(\"Slightly better map\")\n",
    "osml.to_crs(jp.crs).plot(color='orange', ax=axis)\n",
    "jp.plot(color='red', ax=axis);"
   ]
  },
  {
   "cell_type": "markdown",
   "id": "a3fd8645-1ebf-4164-8ba6-ba643686d253",
   "metadata": {},
   "source": [
    "We can use the bounding box for Jaipur to set up the x and y 'limits' of the map."
   ]
  },
  {
   "cell_type": "code",
   "execution_count": null,
   "id": "a74b1863-43ae-40df-a893-d86efd648e0e",
   "metadata": {},
   "outputs": [],
   "source": [
    "print(jp.bounds)"
   ]
  },
  {
   "cell_type": "code",
   "execution_count": null,
   "id": "8003ed70-c397-4885-a5e1-1b9671cbc027",
   "metadata": {
    "scrolled": true
   },
   "outputs": [],
   "source": [
    "f, axis = plt.subplots(1,1,figsize=(7,5))\n",
    "osml.to_crs(jp.crs).plot(color='orange', ax=axis)\n",
    "jp.plot(color='red', ax=axis)\n",
    "axis.set_xlim([jp.bounds.minx[0], jp.bounds.maxx[0]])\n",
    "axis.set_ylim([jp.bounds.miny[0], jp.bounds.maxy[0]])"
   ]
  },
  {
   "cell_type": "markdown",
   "id": "0e84ab4d-1942-4a67-a9ff-c4d86c1018a0",
   "metadata": {},
   "source": [
    "### Buffering a Boundary\n",
    "\n",
    "But it feels quite awkward cropping the map to *exactly* the edges of the city. Python makes it easy to buffer the border and use *that* instead."
   ]
  },
  {
   "cell_type": "code",
   "execution_count": null,
   "id": "ea5d884f-e414-4789-9028-c25e8266fb2a",
   "metadata": {},
   "outputs": [],
   "source": [
    "jpb = jp.buffer(5000)\n",
    "print(jpb.bounds)"
   ]
  },
  {
   "cell_type": "code",
   "execution_count": null,
   "id": "62878833-9972-41bd-a686-d4d912f1818f",
   "metadata": {
    "scrolled": true
   },
   "outputs": [],
   "source": [
    "f, axis = plt.subplots(1,1,figsize=(7,5))\n",
    "osml.to_crs(jp.crs).plot(color='orange', ax=axis)\n",
    "jp.plot(color='red', ax=axis)\n",
    "\n",
    "# And now set the limits of the map using the buffer\n",
    "axis.set_xlim([jpb.bounds.minx[0], jpb.bounds.maxx[0]])\n",
    "axis.set_ylim([jpb.bounds.miny[0], jpb.bounds.maxy[0]])"
   ]
  },
  {
   "cell_type": "markdown",
   "id": "e784ac0c-3437-45e4-bf5e-1a44ddc3c4f7",
   "metadata": {},
   "source": [
    "## Exploring OSM Data\n",
    "What *are* all those orange lines? They make it almost impossible to read the map!\n",
    "\n",
    "Using `head` we can look at the first few records from the data."
   ]
  },
  {
   "cell_type": "code",
   "execution_count": null,
   "id": "b0fa34b5-f61e-4756-9957-45047d38d7f4",
   "metadata": {},
   "outputs": [],
   "source": [
    "osml.head()"
   ]
  },
  {
   "cell_type": "code",
   "execution_count": null,
   "id": "67b481ae-c73f-422d-bab5-1fd900ec3405",
   "metadata": {},
   "outputs": [],
   "source": [
    "osml.highway.unique()"
   ]
  },
  {
   "cell_type": "code",
   "execution_count": null,
   "id": "2e358ac6-5c31-4fef-92b2-6131a26751eb",
   "metadata": {},
   "outputs": [],
   "source": [
    "highways  = osml[osml.highway.isin(['trunk','primary','secondary'])].to_crs(jp.crs)\n",
    "waterways = osml[~osml.waterway.isna()].to_crs(jp.crs)"
   ]
  },
  {
   "cell_type": "code",
   "execution_count": null,
   "id": "4049058e-8e4b-45bf-8e4f-85b369c15c36",
   "metadata": {},
   "outputs": [],
   "source": [
    "print(f\"Highways has shape {highways.shape}\")\n",
    "print(f\"Waterways has shape {waterways.shape}\")"
   ]
  },
  {
   "cell_type": "markdown",
   "id": "cb195cf2-840c-41c0-bd0c-35b44860a551",
   "metadata": {},
   "source": [
    "## Pulling it All Together\n",
    "\n",
    "Here is what we want to achieve... "
   ]
  },
  {
   "cell_type": "code",
   "execution_count": null,
   "id": "3ac609f8-d435-4507-a5c5-a833efc270e0",
   "metadata": {},
   "outputs": [],
   "source": [
    "f, axis = plt.subplots(1,1,figsize=(7,5))\n",
    "highways.plot(color=\"grey\", ax=axis)\n",
    "waterways.plot(color=\"blue\", ax=axis)\n",
    "jp.plot(color='red', ax=axis)\n",
    "axis.set_xlim([jpb.bounds.minx[0], jpb.bounds.maxx[0]])\n",
    "axis.set_ylim([jpb.bounds.miny[0], jpb.bounds.maxy[0]])"
   ]
  },
  {
   "cell_type": "markdown",
   "id": "06a2cdeb-e867-4dea-a27e-62553853749d",
   "metadata": {},
   "source": [
    "Read more about [colourmaps](https://matplotlib.org/stable/users/explain/colors/colormaps.html) in the documentation.\n",
    "\n",
    "And here is how to specify a colour [using hexadecimal](https://www.google.com/search?q=hex+color+picker)."
   ]
  },
  {
   "cell_type": "code",
   "execution_count": null,
   "id": "8608900e-af3b-48ad-9304-cb559df09ada",
   "metadata": {},
   "outputs": [],
   "source": [
    "f, axis = plt.subplots(1,1,figsize=(7,5))\n",
    "highways.plot(column='highway', cmap='copper', linewidth=0.5, ax=axis)\n",
    "waterways.plot(color=\"#7bb1e0\", ax=axis)\n",
    "jp.plot(color='red', linewidth=3, ax=axis)\n",
    "axis.set_xlim([jpb.bounds.minx[0], jpb.bounds.maxx[0]])\n",
    "axis.set_ylim([jpb.bounds.miny[0], jpb.bounds.maxy[0]]);"
   ]
  },
  {
   "cell_type": "markdown",
   "id": "4348f695-b50e-4b8a-9978-619bd53172cc",
   "metadata": {},
   "source": [
    "We can go a lot further than this (as you will have seen from my talk) but I thought that this was more than enough to be starting with!"
   ]
  },
  {
   "cell_type": "markdown",
   "id": "dbd13d0e-99ba-4c85-b803-d345bc9929b9",
   "metadata": {},
   "source": [
    "### Working Out What to Show\n",
    "\n",
    "Below I just wanted to leave in my working process for puzzling through what was in a data file with which I am *completely* unfamiliar! You'll see that I start my trying to look at the overall distribution. This is a crude approach, but I don't honestly know what I'm looking for here! So I slowly work my way from distributions to things that I can put on a map..."
   ]
  },
  {
   "cell_type": "code",
   "execution_count": null,
   "id": "1e0164c6-c7fe-4ac7-8747-e9bc7f680f64",
   "metadata": {},
   "outputs": [],
   "source": [
    "import geopandas as gpd"
   ]
  },
  {
   "cell_type": "markdown",
   "id": "0bd0ed9c-22eb-472e-a176-81efc1caa13a",
   "metadata": {},
   "source": [
    "#### OSM Lines File"
   ]
  },
  {
   "cell_type": "code",
   "execution_count": null,
   "id": "119db6bc-0ced-4e23-9eaa-c7c20275daa5",
   "metadata": {},
   "outputs": [],
   "source": [
    "osml.columns.to_list()"
   ]
  },
  {
   "cell_type": "code",
   "execution_count": null,
   "id": "6955e2fc-7778-443a-b168-6f0523125eb3",
   "metadata": {},
   "outputs": [],
   "source": [
    "osml.highway.value_counts()"
   ]
  },
  {
   "cell_type": "code",
   "execution_count": null,
   "id": "d69f3a73-717a-499c-96c8-bce6bdb16934",
   "metadata": {},
   "outputs": [],
   "source": [
    "osml_resi  = osml[osml.highway=='residential']\n",
    "osml_main  = osml[osml.highway.isin(['motorway','trunk_link','primary_link','secondary_link','tertiary_link'])]\n",
    "osml_minor = osml[osml.highway.isin(['footway','pedestrian','track'])]"
   ]
  },
  {
   "cell_type": "markdown",
   "id": "956b06bb-332f-4513-96e6-e7d92072c78c",
   "metadata": {},
   "source": [
    "#### OSM Points File"
   ]
  },
  {
   "cell_type": "code",
   "execution_count": null,
   "id": "9e855201-76eb-4428-aba2-f74ccb6b4d79",
   "metadata": {},
   "outputs": [],
   "source": [
    "osmp.columns.to_list()"
   ]
  },
  {
   "cell_type": "code",
   "execution_count": null,
   "id": "903f3a6a-413c-4fd5-afc4-563cfd6201b1",
   "metadata": {},
   "outputs": [],
   "source": [
    "osmp.other_tags.value_counts()"
   ]
  },
  {
   "cell_type": "code",
   "execution_count": null,
   "id": "11768c71-9c41-4705-bab6-8608eee43b2a",
   "metadata": {},
   "outputs": [],
   "source": [
    "osmp_bus = osmp[osmp.other_tags=='\"bus\"=>\"yes\",\"public_transport\"=>\"platform\"']"
   ]
  },
  {
   "cell_type": "code",
   "execution_count": null,
   "id": "00397718-6c28-4038-9c42-3e22987aa772",
   "metadata": {},
   "outputs": [],
   "source": [
    "wards  = gpd.read_parquet(src_dir / 'Jaipur_Wards.geoparquet')\n",
    "osmp = gpd.read_parquet(src_dir / 'northern-zone-points.geoparquet')\n",
    "osml = gpd.read_parquet(src_dir / 'northern-zone-lines.geoparquet')\n",
    "\n",
    "f, ax = plt.subplots(1,1,figsize=(8,5))\n",
    "wards.plot(ax=ax, edgecolor='blue', color=\"None\", linewidth=0.25, zorder=3)\n",
    "osml_main.to_crs(wards.crs).plot(ax=ax, color='red', linewidth=1.5, zorder=1)\n",
    "osml_resi.to_crs(wards.crs).plot(ax=ax, color='orange', linewidth=1., zorder=1)\n",
    "osml_minor.to_crs(wards.crs).plot(ax=ax, color='green', linewidth=0.5, zorder=1)\n",
    "osmp_bus.to_crs(wards.crs).plot(ax=ax, color='green', zorder=2)\n",
    "ax.set_ylim([2975000, 2980000])\n",
    "ax.set_xlim([575000, 580000])"
   ]
  },
  {
   "cell_type": "code",
   "execution_count": null,
   "id": "9712e873-6a5a-43b9-ae3a-f37bec7b4504",
   "metadata": {},
   "outputs": [],
   "source": []
  },
  {
   "cell_type": "markdown",
   "id": "00c0ee2c-82a4-42ab-8153-4d4d0aaa416c",
   "metadata": {},
   "source": [
    "## Raster Data\n",
    "\n",
    "I wanted to also demonstrate how to add raster data but the 'open' India Geo-Platform of ISRO [requires a government-issue login](https://bhuvan-app3.nrsc.gov.in/data/download/index.php). Note the different definition of 'open' here!"
   ]
  },
  {
   "cell_type": "code",
   "execution_count": null,
   "id": "02f7dff7-eacc-4bb6-9037-277968c74f14",
   "metadata": {},
   "outputs": [],
   "source": [
    "import rasterio \n",
    "from rasterio.plot import show\n",
    "from pathlib import Path\n",
    "import matplotlib.pyplot as plt\n",
    "\n",
    "# I had issues with processing the raster when using\n",
    "# the full-size DEM, so I downsamples it to 25% of its\n",
    "# original size. The issue was lack of memory (RAM) -- \n",
    "# the podman machine with 4GB of RAM just didn't have \n",
    "# enough to handle the DEM.\n",
    "src = Path( Path.home() / 'work/data/src/Jaipur_District_DEM_downsampled/DEM_Jaipur_District.tif' )\n",
    "\n",
    "f, ax = plt.subplots(1,1,figsize=(8,5))\n",
    "with rasterio.open(src) as reader:\n",
    "    dem = reader.read(1)\n",
    "    show(reader, ax=ax, cmap='terrain', transform=reader.transform, title='Digital Elevation Model')\n",
    "    plt.title('Digital Elevation Model')"
   ]
  },
  {
   "cell_type": "code",
   "execution_count": null,
   "id": "6f1e4cf4-acef-49c3-b9a6-782b08c9a20b",
   "metadata": {},
   "outputs": [],
   "source": [
    "import osgeo.gdal as gdal\n",
    "import numpy as np\n",
    "import subprocess\n",
    "import matplotlib.pyplot as plt\n",
    "from pathlib import Path\n",
    "\n",
    "gdal.UseExceptions()\n",
    "cmd = \"gdaldem slope \" + str(src.resolve()) + \" slope.tif -compute_edges\"\n",
    "subprocess.call(cmd.split())\n",
    "slope = Path( Path.home() / 'work/practicals/slope.tif' )"
   ]
  },
  {
   "cell_type": "code",
   "execution_count": null,
   "id": "cb8f573c-ea0d-4dc1-9d99-a6df65b5e35b",
   "metadata": {},
   "outputs": [],
   "source": [
    "slp = gdal.Open(slope)\n",
    "slpArray = slp.GetRasterBand(1).ReadAsArray()\n",
    "\n",
    "mask = ((slpArray < 0) | (slpArray > 50))\n",
    "masked_data = np.ma.masked_array(slpArray, mask)"
   ]
  },
  {
   "cell_type": "code",
   "execution_count": null,
   "id": "7a7ae174-363b-480f-8e40-bcc3f2c54290",
   "metadata": {},
   "outputs": [],
   "source": [
    "slpArray[ slpArray < -5000 ] = np.nan\n",
    "slpArray[ slpArray > 75 ] = np.nan\n",
    "masked_data = np.ma.masked_invalid(slpArray)"
   ]
  },
  {
   "cell_type": "code",
   "execution_count": null,
   "id": "137bddc7-fdd6-48e5-8f14-d76983344827",
   "metadata": {},
   "outputs": [],
   "source": [
    "plt.imshow(masked_data, cmap='viridis')\n",
    "plt.colorbar()"
   ]
  }
 ],
 "metadata": {
  "kernelspec": {
   "display_name": "Python 3 (ipykernel)",
   "language": "python",
   "name": "python3"
  },
  "language_info": {
   "codemirror_mode": {
    "name": "ipython",
    "version": 3
   },
   "file_extension": ".py",
   "mimetype": "text/x-python",
   "name": "python",
   "nbconvert_exporter": "python",
   "pygments_lexer": "ipython3",
   "version": "3.12.10"
  }
 },
 "nbformat": 4,
 "nbformat_minor": 5
}
